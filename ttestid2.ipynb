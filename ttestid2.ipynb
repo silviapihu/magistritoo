{
  "nbformat": 4,
  "nbformat_minor": 0,
  "metadata": {
    "colab": {
      "name": "ttestid2.ipynb",
      "provenance": [],
      "authorship_tag": "ABX9TyMI59r4nFXs/WU348M3eYwV",
      "include_colab_link": true
    },
    "kernelspec": {
      "name": "python3",
      "display_name": "Python 3"
    }
  },
  "cells": [
    {
      "cell_type": "markdown",
      "metadata": {
        "id": "view-in-github",
        "colab_type": "text"
      },
      "source": [
        "<a href=\"https://colab.research.google.com/github/silviapihu/magistritoo/blob/master/ttestid2.ipynb\" target=\"_parent\"><img src=\"https://colab.research.google.com/assets/colab-badge.svg\" alt=\"Open In Colab\"/></a>"
      ]
    },
    {
      "cell_type": "markdown",
      "metadata": {
        "id": "dUWAN9NoGSPu",
        "colab_type": "text"
      },
      "source": [
        "sihttunnus makrosoomia\n",
        "https://pythonfordatascience.org/independent-t-test-python/"
      ]
    },
    {
      "cell_type": "code",
      "metadata": {
        "id": "gOrz7xlF1gAQ",
        "colab_type": "code",
        "colab": {
          "resources": {
            "http://localhost:8080/nbextensions/google.colab/files.js": {
              "data": "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",
              "ok": true,
              "headers": [
                [
                  "content-type",
                  "application/javascript"
                ]
              ],
              "status": 200,
              "status_text": ""
            }
          },
          "base_uri": "https://localhost:8080/",
          "height": 73
        },
        "outputId": "1dc21385-bce4-4dcf-bde7-84aed737b515"
      },
      "source": [
        "from google.colab import files\n",
        "uploaded = files.upload()"
      ],
      "execution_count": null,
      "outputs": [
        {
          "output_type": "display_data",
          "data": {
            "text/html": [
              "\n",
              "     <input type=\"file\" id=\"files-86752eb3-4b1b-4805-b3b9-63beb51d8c53\" name=\"files[]\" multiple disabled\n",
              "        style=\"border:none\" />\n",
              "     <output id=\"result-86752eb3-4b1b-4805-b3b9-63beb51d8c53\">\n",
              "      Upload widget is only available when the cell has been executed in the\n",
              "      current browser session. Please rerun this cell to enable.\n",
              "      </output>\n",
              "      <script src=\"/nbextensions/google.colab/files.js\"></script> "
            ],
            "text/plain": [
              "<IPython.core.display.HTML object>"
            ]
          },
          "metadata": {
            "tags": []
          }
        },
        {
          "output_type": "stream",
          "text": [
            "Saving koos.csv to koos.csv\n"
          ],
          "name": "stdout"
        }
      ]
    },
    {
      "cell_type": "code",
      "metadata": {
        "id": "zE0wUchB2u07",
        "colab_type": "code",
        "colab": {}
      },
      "source": [
        "import pandas as pd\n"
      ],
      "execution_count": null,
      "outputs": []
    },
    {
      "cell_type": "code",
      "metadata": {
        "id": "qI9GImmt2Q4A",
        "colab_type": "code",
        "colab": {}
      },
      "source": [
        "import io\n",
        "koos = pd.read_csv(io.BytesIO(uploaded['koos.csv']))"
      ],
      "execution_count": null,
      "outputs": []
    },
    {
      "cell_type": "code",
      "metadata": {
        "id": "nse8EvAkl9Jc",
        "colab_type": "code",
        "colab": {}
      },
      "source": [
        "import io\n",
        "df1 = pd.read_csv(io.BytesIO(uploaded['df1.csv']))"
      ],
      "execution_count": null,
      "outputs": []
    },
    {
      "cell_type": "code",
      "metadata": {
        "id": "vY1VrOzAsGPv",
        "colab_type": "code",
        "colab": {}
      },
      "source": [
        "df= pd.merge(df1, df2, on='kood', how='left')"
      ],
      "execution_count": null,
      "outputs": []
    },
    {
      "cell_type": "code",
      "metadata": {
        "id": "KxPkFO7TIa2e",
        "colab_type": "code",
        "colab": {}
      },
      "source": [
        "koos=koos.dropna()"
      ],
      "execution_count": null,
      "outputs": []
    },
    {
      "cell_type": "code",
      "metadata": {
        "id": "mI-3qhhJ3Rw6",
        "colab_type": "code",
        "colab": {
          "base_uri": "https://localhost:8080/",
          "height": 470
        },
        "outputId": "9b10363b-9652-442d-a803-5e0cb19c7534"
      },
      "source": [
        "koos.info()"
      ],
      "execution_count": null,
      "outputs": [
        {
          "output_type": "stream",
          "text": [
            "<class 'pandas.core.frame.DataFrame'>\n",
            "Int64Index: 4921 entries, 0 to 5016\n",
            "Data columns (total 20 columns):\n",
            " #   Column           Non-Null Count  Dtype  \n",
            "---  ------           --------------  -----  \n",
            " 0   kood             4921 non-null   object \n",
            " 1   Valim            4921 non-null   int64  \n",
            " 2   Vanus            4921 non-null   float64\n",
            " 3   vanusyle40       4921 non-null   int64  \n",
            " 4   Kaal             4921 non-null   float64\n",
            " 5   KMI              4921 non-null   float64\n",
            " 6   KMIyle25         4921 non-null   float64\n",
            " 7   DM_sugul         4921 non-null   int64  \n",
            " 8   PCOS             4921 non-null   int64  \n",
            " 9   suur_laps_varem  4921 non-null   int64  \n",
            " 10  paastusuhkur     4921 non-null   float64\n",
            " 11  polyhydramnion   4921 non-null   int64  \n",
            " 12  gdm_jm           4921 non-null   int64  \n",
            " 13  GDM              4921 non-null   int64  \n",
            " 14  GA               4921 non-null   int64  \n",
            " 15  synnitus         4921 non-null   int64  \n",
            " 16  sugu             4921 non-null   float64\n",
            " 17  synnikaal        4921 non-null   int64  \n",
            " 18  WeightZScore     4921 non-null   float64\n",
            " 19  Makrosoomia      4921 non-null   int64  \n",
            "dtypes: float64(7), int64(12), object(1)\n",
            "memory usage: 807.4+ KB\n"
          ],
          "name": "stdout"
        }
      ]
    },
    {
      "cell_type": "code",
      "metadata": {
        "id": "iAJBpMpqQAzx",
        "colab_type": "code",
        "colab": {
          "base_uri": "https://localhost:8080/",
          "height": 17
        },
        "outputId": "27fa8dd4-3b41-4e54-a00c-23f6dbac37fe"
      },
      "source": [
        "df.to_csv('df.csv')\n",
        "files.download('df.csv')"
      ],
      "execution_count": null,
      "outputs": [
        {
          "output_type": "display_data",
          "data": {
            "application/javascript": [
              "\n",
              "    async function download(id, filename, size) {\n",
              "      if (!google.colab.kernel.accessAllowed) {\n",
              "        return;\n",
              "      }\n",
              "      const div = document.createElement('div');\n",
              "      const label = document.createElement('label');\n",
              "      label.textContent = `Downloading \"${filename}\": `;\n",
              "      div.appendChild(label);\n",
              "      const progress = document.createElement('progress');\n",
              "      progress.max = size;\n",
              "      div.appendChild(progress);\n",
              "      document.body.appendChild(div);\n",
              "\n",
              "      const buffers = [];\n",
              "      let downloaded = 0;\n",
              "\n",
              "      const channel = await google.colab.kernel.comms.open(id);\n",
              "      // Send a message to notify the kernel that we're ready.\n",
              "      channel.send({})\n",
              "\n",
              "      for await (const message of channel.messages) {\n",
              "        // Send a message to notify the kernel that we're ready.\n",
              "        channel.send({})\n",
              "        if (message.buffers) {\n",
              "          for (const buffer of message.buffers) {\n",
              "            buffers.push(buffer);\n",
              "            downloaded += buffer.byteLength;\n",
              "            progress.value = downloaded;\n",
              "          }\n",
              "        }\n",
              "      }\n",
              "      const blob = new Blob(buffers, {type: 'application/binary'});\n",
              "      const a = document.createElement('a');\n",
              "      a.href = window.URL.createObjectURL(blob);\n",
              "      a.download = filename;\n",
              "      div.appendChild(a);\n",
              "      a.click();\n",
              "      div.remove();\n",
              "    }\n",
              "  "
            ],
            "text/plain": [
              "<IPython.core.display.Javascript object>"
            ]
          },
          "metadata": {
            "tags": []
          }
        },
        {
          "output_type": "display_data",
          "data": {
            "application/javascript": [
              "download(\"download_80441f08-0dae-4149-8a99-a101e0814994\", \"df.csv\", 186124)"
            ],
            "text/plain": [
              "<IPython.core.display.Javascript object>"
            ]
          },
          "metadata": {
            "tags": []
          }
        }
      ]
    },
    {
      "cell_type": "markdown",
      "metadata": {
        "id": "VPEOR_rzBWYT",
        "colab_type": "text"
      },
      "source": [
        "t-testid"
      ]
    },
    {
      "cell_type": "code",
      "metadata": {
        "id": "AEzS1t1j-olG",
        "colab_type": "code",
        "colab": {}
      },
      "source": [
        "jah = koos[(koos['Makrosoomia'] == 1)]\n",
        "jah.reset_index(inplace= True)\n",
        "\n",
        "ei = koos[(koos['Makrosoomia'] == 0)]\n",
        "ei.reset_index(inplace= True)"
      ],
      "execution_count": null,
      "outputs": []
    },
    {
      "cell_type": "code",
      "metadata": {
        "id": "r4iufDW6GO0C",
        "colab_type": "code",
        "colab": {
          "base_uri": "https://localhost:8080/",
          "height": 34
        },
        "outputId": "73be6914-508a-4473-bed7-a0bc9003af63"
      },
      "source": [
        "from scipy import stats\n",
        "stats.levene(jah['WeightZScore'], ei['WeightZScore'])"
      ],
      "execution_count": null,
      "outputs": [
        {
          "output_type": "execute_result",
          "data": {
            "text/plain": [
              "LeveneResult(statistic=307.0481230891191, pvalue=9.854104843898853e-67)"
            ]
          },
          "metadata": {
            "tags": []
          },
          "execution_count": 12
        }
      ]
    },
    {
      "cell_type": "code",
      "metadata": {
        "id": "RxJzws_VG4bn",
        "colab_type": "code",
        "colab": {
          "base_uri": "https://localhost:8080/",
          "height": 34
        },
        "outputId": "6954b04e-9392-4091-8a93-8b01176ca2d8"
      },
      "source": [
        "stats.ttest_ind(jah['WeightZScore'], ei['WeightZScore'])"
      ],
      "execution_count": null,
      "outputs": [
        {
          "output_type": "execute_result",
          "data": {
            "text/plain": [
              "Ttest_indResult(statistic=49.750094191366436, pvalue=0.0)"
            ]
          },
          "metadata": {
            "tags": []
          },
          "execution_count": 13
        }
      ]
    },
    {
      "cell_type": "code",
      "metadata": {
        "colab_type": "code",
        "id": "PtzQ7ZGsIK5b",
        "colab": {
          "base_uri": "https://localhost:8080/",
          "height": 34
        },
        "outputId": "741895ad-9e88-467a-abbf-69ad6c20eefc"
      },
      "source": [
        "stats.levene(jah['ema_kaal'], ei['ema_kaal'])"
      ],
      "execution_count": null,
      "outputs": [
        {
          "output_type": "execute_result",
          "data": {
            "text/plain": [
              "LeveneResult(statistic=20.35530106928268, pvalue=6.581293626639376e-06)"
            ]
          },
          "metadata": {
            "tags": []
          },
          "execution_count": 28
        }
      ]
    },
    {
      "cell_type": "code",
      "metadata": {
        "colab_type": "code",
        "id": "TjzlHhvXIK5_",
        "colab": {
          "base_uri": "https://localhost:8080/",
          "height": 34
        },
        "outputId": "76ea2547-828c-4f4d-8ce9-6bea49e3d7e7"
      },
      "source": [
        "stats.ttest_ind(jah['synnikaal'], ei['synnikaal'])"
      ],
      "execution_count": null,
      "outputs": [
        {
          "output_type": "execute_result",
          "data": {
            "text/plain": [
              "Ttest_indResult(statistic=40.17991570528047, pvalue=1.552912912008923e-305)"
            ]
          },
          "metadata": {
            "tags": []
          },
          "execution_count": 14
        }
      ]
    },
    {
      "cell_type": "code",
      "metadata": {
        "colab_type": "code",
        "id": "MEXugUDGdZnk",
        "colab": {
          "base_uri": "https://localhost:8080/",
          "height": 34
        },
        "outputId": "24c6f4f2-5d97-45d7-9fdd-ba65a622481d"
      },
      "source": [
        "stats.levene(jah['KMI'], ei['KMI'])"
      ],
      "execution_count": null,
      "outputs": [
        {
          "output_type": "execute_result",
          "data": {
            "text/plain": [
              "LeveneResult(statistic=13.51191424791544, pvalue=0.00023958025194701656)"
            ]
          },
          "metadata": {
            "tags": []
          },
          "execution_count": 30
        }
      ]
    },
    {
      "cell_type": "code",
      "metadata": {
        "colab_type": "code",
        "id": "2h5WkZICdZn0",
        "colab": {
          "base_uri": "https://localhost:8080/",
          "height": 34
        },
        "outputId": "253da548-82ca-4ba2-b25f-86452e82952f"
      },
      "source": [
        "stats.ttest_ind(jah['KMI'], ei['KMI'])"
      ],
      "execution_count": null,
      "outputs": [
        {
          "output_type": "execute_result",
          "data": {
            "text/plain": [
              "Ttest_indResult(statistic=7.110784696516383, pvalue=1.3194663546764926e-12)"
            ]
          },
          "metadata": {
            "tags": []
          },
          "execution_count": 31
        }
      ]
    },
    {
      "cell_type": "code",
      "metadata": {
        "id": "hV1ehFmKbAJM",
        "colab_type": "code",
        "colab": {
          "base_uri": "https://localhost:8080/",
          "height": 134
        },
        "outputId": "43ebf929-13b3-464d-f794-8fab9fadaf3f"
      },
      "source": [
        "from scipy.stats import chi2_contingency\n",
        "table = pd.crosstab(koos['GDM'], \n",
        "                            koos['GA'],  \n",
        "                               margins = False) \n",
        "print(table)\n",
        "stat, p, dof, expected = chi2_contingency(table)\n",
        "print(stat, p)"
      ],
      "execution_count": null,
      "outputs": [
        {
          "output_type": "stream",
          "text": [
            "GA   168  169  176  177  181  188  190  ...  293  294  295  296  297  298  300\n",
            "GDM                                     ...                                   \n",
            "0      1    1    1    1    2    2    0  ...   77   98   21    7    7    1    1\n",
            "1      0    0    0    0    0    0    1  ...    1    3    2    0    0    0    0\n",
            "\n",
            "[2 rows x 97 columns]\n",
            "197.62348501721777 5.04971062137783e-09\n"
          ],
          "name": "stdout"
        }
      ]
    },
    {
      "cell_type": "code",
      "metadata": {
        "id": "nHQnKQjdux8G",
        "colab_type": "code",
        "colab": {
          "base_uri": "https://localhost:8080/",
          "height": 101
        },
        "outputId": "e0269640-7c03-4e31-9c98-f2e0f3b6d5d8"
      },
      "source": [
        "from scipy.stats import chi2_contingency\n",
        "table = pd.crosstab(df['makrosoomnelaps'], \n",
        "                            df['perineum'],  \n",
        "                               margins = False) \n",
        "print(table)\n",
        "stat, p, dof, expected = chi2_contingency(table)\n",
        "print(stat, p)"
      ],
      "execution_count": null,
      "outputs": [
        {
          "output_type": "stream",
          "text": [
            "perineum            0   1\n",
            "makrosoomnelaps          \n",
            "0                2003  24\n",
            "1                 192   4\n",
            "0.47847117073991813 0.4891156307186567\n"
          ],
          "name": "stdout"
        }
      ]
    },
    {
      "cell_type": "code",
      "metadata": {
        "id": "Vf-CxpsEDYCo",
        "colab_type": "code",
        "colab": {
          "base_uri": "https://localhost:8080/",
          "height": 101
        },
        "outputId": "e282c3ba-0d75-47f0-a596-e87e616fd4cb"
      },
      "source": [
        "from scipy.stats import chi2_contingency\n",
        "table = pd.crosstab(df['makrosoomnelaps'], \n",
        "                            df['preekl'],  \n",
        "                               margins = False) \n",
        "print(table)\n",
        "stat, p, dof, expected = chi2_contingency(table)\n",
        "print(stat, p)"
      ],
      "execution_count": null,
      "outputs": [
        {
          "output_type": "stream",
          "text": [
            "preekl              0   1\n",
            "makrosoomnelaps          \n",
            "0                1973  54\n",
            "1                 195   1\n",
            "2.6013297706990497 0.1067740924135044\n"
          ],
          "name": "stdout"
        }
      ]
    },
    {
      "cell_type": "code",
      "metadata": {
        "id": "HrTuu5ptbssD",
        "colab_type": "code",
        "colab": {
          "base_uri": "https://localhost:8080/",
          "height": 101
        },
        "outputId": "6ca6aceb-9361-4b9e-db89-b5326ecf493f"
      },
      "source": [
        "table = pd.crosstab(koos['makrosoomia'], \n",
        "                            koos['DM_sugul'],  \n",
        "                               margins = False) \n",
        "print(table)\n",
        "stat, p, dof, expected = chi2_contingency(table)\n",
        "print(stat, p)"
      ],
      "execution_count": null,
      "outputs": [
        {
          "output_type": "stream",
          "text": [
            "DM_sugul        0    1\n",
            "makrosoomia           \n",
            "0            4029  408\n",
            "1             522   58\n",
            "0.3044089258700391 0.5811315314382566\n"
          ],
          "name": "stdout"
        }
      ]
    },
    {
      "cell_type": "code",
      "metadata": {
        "id": "0EGdQJR-b1nr",
        "colab_type": "code",
        "colab": {
          "base_uri": "https://localhost:8080/",
          "height": 101
        },
        "outputId": "70677ebc-4c3b-42e5-d5d0-75e969b22f1d"
      },
      "source": [
        "table = pd.crosstab(koos['makrosoomia'], \n",
        "                            koos['KMIyle25'],  \n",
        "                               margins = False) \n",
        "print(table)\n",
        "stat, p, dof, expected = chi2_contingency(table)\n",
        "print(stat, p)"
      ],
      "execution_count": null,
      "outputs": [
        {
          "output_type": "stream",
          "text": [
            "KMIyle25      0.0   1.0\n",
            "makrosoomia            \n",
            "0            3246  1173\n",
            "1             360   215\n",
            "29.290463814395288 6.230154160907707e-08\n"
          ],
          "name": "stdout"
        }
      ]
    },
    {
      "cell_type": "code",
      "metadata": {
        "id": "1LhtRSjMcNDK",
        "colab_type": "code",
        "colab": {
          "base_uri": "https://localhost:8080/",
          "height": 101
        },
        "outputId": "f0654285-95a0-4b52-9f6e-ae5987ed6750"
      },
      "source": [
        "table = pd.crosstab(koos['makrosoomia'], \n",
        "                            koos['suur_laps_enne'],  \n",
        "                               margins = False) \n",
        "print(table)\n",
        "stat, p, dof, expected = chi2_contingency(table)\n",
        "print(stat, p)"
      ],
      "execution_count": null,
      "outputs": [
        {
          "output_type": "stream",
          "text": [
            "suur_laps_enne     0   1\n",
            "makrosoomia             \n",
            "0               4294  62\n",
            "1                521  44\n",
            "93.1181529418051 4.926381366545783e-22\n"
          ],
          "name": "stdout"
        }
      ]
    },
    {
      "cell_type": "code",
      "metadata": {
        "id": "1OCyjnM_dJ0D",
        "colab_type": "code",
        "colab": {
          "base_uri": "https://localhost:8080/",
          "height": 101
        },
        "outputId": "4dc1025f-4954-46e5-a31a-0a97d7aab8e8"
      },
      "source": [
        "table = pd.crosstab(koos['makrosoomia'], \n",
        "                            koos['glykoos'],  \n",
        "                               margins = False) \n",
        "print(table)\n",
        "stat, p, dof, expected = chi2_contingency(table)\n",
        "print(stat, p)"
      ],
      "execution_count": null,
      "outputs": [
        {
          "output_type": "stream",
          "text": [
            "glykoos       0.0  1.0\n",
            "makrosoomia           \n",
            "0            3711  645\n",
            "1             454  111\n",
            "8.63782736112662 0.0032925385098790234\n"
          ],
          "name": "stdout"
        }
      ]
    },
    {
      "cell_type": "code",
      "metadata": {
        "id": "dm1RJlyYdVj5",
        "colab_type": "code",
        "colab": {
          "base_uri": "https://localhost:8080/",
          "height": 101
        },
        "outputId": "bb1b36c0-b4de-4a63-d7a4-99c2572d2ab8"
      },
      "source": [
        "table = pd.crosstab(koos['makrosoomia'], \n",
        "                            koos['polyhydramnion'],  \n",
        "                               margins = False) \n",
        "print(table)\n",
        "stat, p, dof, expected = chi2_contingency(table)\n",
        "print(stat, p)"
      ],
      "execution_count": null,
      "outputs": [
        {
          "output_type": "stream",
          "text": [
            "polyhydramnion     0   1\n",
            "makrosoomia             \n",
            "0               4287  69\n",
            "1                536  29\n",
            "30.476781431868684 3.378863672696376e-08\n"
          ],
          "name": "stdout"
        }
      ]
    },
    {
      "cell_type": "code",
      "metadata": {
        "id": "mJoqcrQHgUEd",
        "colab_type": "code",
        "colab": {
          "base_uri": "https://localhost:8080/",
          "height": 101
        },
        "outputId": "26b5669d-728c-423c-fb9b-205b1e6ed1eb"
      },
      "source": [
        "table = pd.crosstab(koos['makrosoomia'], \n",
        "                            koos['gdm_jm'],  \n",
        "                               margins = False) \n",
        "print(table)\n",
        "stat, p, dof, expected = chi2_contingency(table)\n",
        "print(stat, p)"
      ],
      "execution_count": null,
      "outputs": [
        {
          "output_type": "stream",
          "text": [
            "gdm_jm          1    2     3    4\n",
            "makrosoomia                      \n",
            "0            2083  810  1119  344\n",
            "1             153  115   214   83\n",
            "102.18821796376433 5.259447664578597e-22\n"
          ],
          "name": "stdout"
        }
      ]
    },
    {
      "cell_type": "code",
      "metadata": {
        "id": "ZwjE75higfE2",
        "colab_type": "code",
        "colab": {
          "base_uri": "https://localhost:8080/",
          "height": 101
        },
        "outputId": "f9149d02-46bf-445a-91d1-8b534ab26015"
      },
      "source": [
        "table = pd.crosstab(koos['makrosoomia'], \n",
        "                            koos['synnitusviis'],  \n",
        "                               margins = False) \n",
        "print(table)\n",
        "stat, p, dof, expected = chi2_contingency(table)\n",
        "print(stat, p)"
      ],
      "execution_count": null,
      "outputs": [
        {
          "output_type": "stream",
          "text": [
            "synnitusviis     1    2    3\n",
            "makrosoomia                 \n",
            "0             3481  156  719\n",
            "1              401   11  153\n",
            "40.55811834201957 1.5592526967447446e-09\n"
          ],
          "name": "stdout"
        }
      ]
    },
    {
      "cell_type": "code",
      "metadata": {
        "id": "hgISLU0njY4L",
        "colab_type": "code",
        "colab": {
          "base_uri": "https://localhost:8080/",
          "height": 101
        },
        "outputId": "c325efe4-5975-4f41-8fa1-5ee6e0d9c003"
      },
      "source": [
        "table = pd.crosstab(koos['makrosoomia'], \n",
        "                            koos['sugu'],  \n",
        "                               margins = False) \n",
        "print(table)\n",
        "stat, p, dof, expected = chi2_contingency(table)\n",
        "print(stat, p)"
      ],
      "execution_count": null,
      "outputs": [
        {
          "output_type": "stream",
          "text": [
            "sugu          1.0   2.0\n",
            "makrosoomia            \n",
            "0            2224  2132\n",
            "1             325   240\n",
            "8.11814641651355 0.004382434407913946\n"
          ],
          "name": "stdout"
        }
      ]
    },
    {
      "cell_type": "code",
      "metadata": {
        "id": "vukzX2DWmSWX",
        "colab_type": "code",
        "colab": {}
      },
      "source": [
        ""
      ],
      "execution_count": null,
      "outputs": []
    },
    {
      "cell_type": "code",
      "metadata": {
        "colab_type": "code",
        "id": "G7dptOF4mSxd",
        "colab": {}
      },
      "source": [
        "df1=df1.dropna()"
      ],
      "execution_count": null,
      "outputs": []
    },
    {
      "cell_type": "code",
      "metadata": {
        "colab_type": "code",
        "id": "tEN2A2L4mSxs",
        "colab": {
          "base_uri": "https://localhost:8080/",
          "height": 722
        },
        "outputId": "f88134d7-d882-4e8f-bdd3-c73d084fe3a6"
      },
      "source": [
        "df1.info()"
      ],
      "execution_count": null,
      "outputs": [
        {
          "output_type": "stream",
          "text": [
            "<class 'pandas.core.frame.DataFrame'>\n",
            "Int64Index: 1973 entries, 2 to 2222\n",
            "Data columns (total 35 columns):\n",
            " #   Column           Non-Null Count  Dtype  \n",
            "---  ------           --------------  -----  \n",
            " 0   Unnamed: 0       1973 non-null   int64  \n",
            " 1   HPnumber         1973 non-null   object \n",
            " 2   kaal             1973 non-null   float64\n",
            " 3   KMI              1973 non-null   float64\n",
            " 4   KMI_aste         1973 non-null   float64\n",
            " 5   vanus_syn_ajal   1973 non-null   float64\n",
            " 6   lastearv         1973 non-null   int64  \n",
            " 7   gestats_paev     1973 non-null   int64  \n",
            " 8   synn_arv         1973 non-null   int64  \n",
            " 9   gestats_nadal    1973 non-null   int64  \n",
            " 10  keskminekaal     1973 non-null   int64  \n",
            " 11  synnikaal        1973 non-null   float64\n",
            " 12  synnikaal_koef   1973 non-null   float64\n",
            " 13  suurus           1973 non-null   int64  \n",
            " 14  makrosoomnelaps  1973 non-null   int64  \n",
            " 15  sugu             1973 non-null   float64\n",
            " 16  synnitus         1973 non-null   object \n",
            " 17  synn_med         1973 non-null   int64  \n",
            " 18  iVF_rasedus      1973 non-null   int64  \n",
            " 19  preekl           1973 non-null   int64  \n",
            " 20  gdm              1973 non-null   int64  \n",
            " 21  gdm_test         1973 non-null   int64  \n",
            " 22  gdm+KMI          1973 non-null   float64\n",
            " 23  gdm+test         1973 non-null   int64  \n",
            " 24  gdm_jahei        1973 non-null   int64  \n",
            " 25  suur_laps_varem  1973 non-null   int64  \n",
            " 26  varemGDM         1973 non-null   int64  \n",
            " 27  perek_diab       1973 non-null   int64  \n",
            " 28  PCOS             1973 non-null   int64  \n",
            " 29  vanus_yle40      1973 non-null   int64  \n",
            " 30  kmi_yle25        1973 non-null   float64\n",
            " 31  kmi_yle30        1973 non-null   float64\n",
            " 32  ola_dystookia    1973 non-null   int64  \n",
            " 33  polyhydramnion   1973 non-null   int64  \n",
            " 34  kaaluiive        1973 non-null   float64\n",
            "dtypes: float64(11), int64(22), object(2)\n",
            "memory usage: 554.9+ KB\n"
          ],
          "name": "stdout"
        }
      ]
    },
    {
      "cell_type": "code",
      "metadata": {
        "id": "tAdEBmvsm01a",
        "colab_type": "code",
        "colab": {}
      },
      "source": [
        "jah = df1[(df1['makrosoomnelaps'] == 1)]\n",
        "jah.reset_index(inplace= True)\n",
        "\n",
        "ei = df1[(df1['makrosoomnelaps'] == 0)]\n",
        "ei.reset_index(inplace= True)"
      ],
      "execution_count": null,
      "outputs": []
    },
    {
      "cell_type": "code",
      "metadata": {
        "id": "ocLS8IqcnoLM",
        "colab_type": "code",
        "colab": {}
      },
      "source": [
        ""
      ],
      "execution_count": null,
      "outputs": []
    },
    {
      "cell_type": "code",
      "metadata": {
        "id": "3Udq32l-AkZo",
        "colab_type": "code",
        "colab": {
          "base_uri": "https://localhost:8080/",
          "height": 34
        },
        "outputId": "a6335cb9-39e0-4afc-caca-7ffd6a507037"
      },
      "source": [
        "stats.levene(jah['kaaluiive'], ei['kaaluiive'])\n",
        "#check for homogeneity of variances"
      ],
      "execution_count": null,
      "outputs": [
        {
          "output_type": "execute_result",
          "data": {
            "text/plain": [
              "LeveneResult(statistic=13.05610762860922, pvalue=0.0003098722748224176)"
            ]
          },
          "metadata": {
            "tags": []
          },
          "execution_count": 44
        }
      ]
    },
    {
      "cell_type": "code",
      "metadata": {
        "id": "zQdLmC5vBwJS",
        "colab_type": "code",
        "colab": {
          "base_uri": "https://localhost:8080/",
          "height": 312
        },
        "outputId": "f141db54-fd14-4db7-b52d-a80b44098b6e"
      },
      "source": [
        "#check for normality\n",
        "from scipy import stats\n",
        "import matplotlib.pyplot as plt\n",
        "diff = jah['kaaluiive'] - ei['kaaluiive']\n",
        "stats.probplot(diff, plot= plt)\n",
        "stats.shapiro(diff)"
      ],
      "execution_count": null,
      "outputs": [
        {
          "output_type": "execute_result",
          "data": {
            "text/plain": [
              "(nan, 1.0)"
            ]
          },
          "metadata": {
            "tags": []
          },
          "execution_count": 45
        },
        {
          "output_type": "display_data",
          "data": {
            "image/png": "[encoded data removed]",
            "text/plain": [
              "<Figure size 432x288 with 1 Axes>"
            ]
          },
          "metadata": {
            "tags": [],
            "needs_background": "light"
          }
        }
      ]
    },
    {
      "cell_type": "code",
      "metadata": {
        "id": "zpOohVGZEGLI",
        "colab_type": "code",
        "colab": {
          "base_uri": "https://localhost:8080/",
          "height": 34
        },
        "outputId": "0a0385b5-31e7-439f-ea14-c338d1a5b612"
      },
      "source": [
        "stats.ttest_ind(jah['kaaluiive'], ei['kaaluiive'])"
      ],
      "execution_count": null,
      "outputs": [
        {
          "output_type": "execute_result",
          "data": {
            "text/plain": [
              "Ttest_indResult(statistic=3.9480210978646584, pvalue=8.156670032089031e-05)"
            ]
          },
          "metadata": {
            "tags": []
          },
          "execution_count": 46
        }
      ]
    },
    {
      "cell_type": "code",
      "metadata": {
        "id": "wzEpBQW0zvfy",
        "colab_type": "code",
        "colab": {
          "base_uri": "https://localhost:8080/",
          "height": 34
        },
        "outputId": "7acaaa6c-a751-4865-a89d-24f84b1257cf"
      },
      "source": [
        "from scipy import stats\n",
        "stats.ttest_ind(jah['synn_arv'], ei['synn_arv'])"
      ],
      "execution_count": null,
      "outputs": [
        {
          "output_type": "execute_result",
          "data": {
            "text/plain": [
              "Ttest_indResult(statistic=4.144317829980549, pvalue=3.552520557559149e-05)"
            ]
          },
          "metadata": {
            "tags": []
          },
          "execution_count": 9
        }
      ]
    },
    {
      "cell_type": "code",
      "metadata": {
        "id": "9sWX2koboAcb",
        "colab_type": "code",
        "colab": {
          "base_uri": "https://localhost:8080/",
          "height": 101
        },
        "outputId": "281c4a98-e32d-4d7b-b0be-eecfea650e9a"
      },
      "source": [
        "table = pd.crosstab(df1['makrosoomnelaps'], \n",
        "                            df1['synn_arv'],  \n",
        "                               margins = False) \n",
        "print(table)\n",
        "stat, p, dof, expected = chi2_contingency(table)\n",
        "print(stat, p)"
      ],
      "execution_count": null,
      "outputs": [
        {
          "output_type": "stream",
          "text": [
            "synn_arv           1    2    3   4   5  6  7\n",
            "makrosoomnelaps                             \n",
            "0                834  652  231  60  14  5  1\n",
            "1                 50   81   33   8   4  0  0\n",
            "25.035517200792576 0.0003363226489398833\n"
          ],
          "name": "stdout"
        }
      ]
    },
    {
      "cell_type": "code",
      "metadata": {
        "id": "d71ymO8coo3Y",
        "colab_type": "code",
        "colab": {
          "base_uri": "https://localhost:8080/",
          "height": 101
        },
        "outputId": "d6564ca1-a6b8-4b39-ca56-d065db4568b1"
      },
      "source": [
        "table = pd.crosstab(df1['makrosoomnelaps'], \n",
        "                            df1['varemGDM'],  \n",
        "                               margins = False) \n",
        "print(table)\n",
        "stat, p, dof, expected = chi2_contingency(table)\n",
        "print(stat, p)"
      ],
      "execution_count": null,
      "outputs": [
        {
          "output_type": "stream",
          "text": [
            "varemGDM            0   1\n",
            "makrosoomnelaps          \n",
            "0                1775  22\n",
            "1                 171   5\n",
            "2.0217313201722735 0.15506225557292172\n"
          ],
          "name": "stdout"
        }
      ]
    },
    {
      "cell_type": "code",
      "metadata": {
        "id": "iMJO5bm0qKx5",
        "colab_type": "code",
        "colab": {
          "base_uri": "https://localhost:8080/",
          "height": 101
        },
        "outputId": "93c9f00d-a452-4f15-bbe4-d96a0b63c3c3"
      },
      "source": [
        "table = pd.crosstab(df1['makrosoomnelaps'], \n",
        "                            df1['ola_dystookia'],  \n",
        "                               margins = False) \n",
        "print(table)\n",
        "stat, p, dof, expected = chi2_contingency(table)\n",
        "print(stat, p)"
      ],
      "execution_count": null,
      "outputs": [
        {
          "output_type": "stream",
          "text": [
            "ola_dystookia       0   1\n",
            "makrosoomnelaps          \n",
            "0                1787  10\n",
            "1                 172   4\n",
            "4.487073686418637 0.03415209007495032\n"
          ],
          "name": "stdout"
        }
      ]
    },
    {
      "cell_type": "code",
      "metadata": {
        "id": "t9_jtONpM928",
        "colab_type": "code",
        "colab": {
          "base_uri": "https://localhost:8080/",
          "height": 17
        },
        "outputId": "fd71e425-d070-43fe-88f9-3296a4ecc4c4"
      },
      "source": [
        "makrosoomia_pre = pd.crosstab(index=df[\"makrosoomnelaps\"], columns=df[\"preekl\"],margins=True)\n",
        "\n",
        "makrosoomia_pre.index= ['ei', 'makro', \"tulp\"]\n",
        "makrosoomia_pre.columns = [\"ei\",\"preekl\",\"rida\"]\n",
        "\n",
        "mpre=makrosoomia_pre.div(makrosoomia_pre[\"rida\"], axis=0)\n",
        "mpre.to_csv('mpre.csv')\n",
        "files.download('mpre.csv')"
      ],
      "execution_count": null,
      "outputs": [
        {
          "output_type": "display_data",
          "data": {
            "application/javascript": [
              "\n",
              "    async function download(id, filename, size) {\n",
              "      if (!google.colab.kernel.accessAllowed) {\n",
              "        return;\n",
              "      }\n",
              "      const div = document.createElement('div');\n",
              "      const label = document.createElement('label');\n",
              "      label.textContent = `Downloading \"${filename}\": `;\n",
              "      div.appendChild(label);\n",
              "      const progress = document.createElement('progress');\n",
              "      progress.max = size;\n",
              "      div.appendChild(progress);\n",
              "      document.body.appendChild(div);\n",
              "\n",
              "      const buffers = [];\n",
              "      let downloaded = 0;\n",
              "\n",
              "      const channel = await google.colab.kernel.comms.open(id);\n",
              "      // Send a message to notify the kernel that we're ready.\n",
              "      channel.send({})\n",
              "\n",
              "      for await (const message of channel.messages) {\n",
              "        // Send a message to notify the kernel that we're ready.\n",
              "        channel.send({})\n",
              "        if (message.buffers) {\n",
              "          for (const buffer of message.buffers) {\n",
              "            buffers.push(buffer);\n",
              "            downloaded += buffer.byteLength;\n",
              "            progress.value = downloaded;\n",
              "          }\n",
              "        }\n",
              "      }\n",
              "      const blob = new Blob(buffers, {type: 'application/binary'});\n",
              "      const a = document.createElement('a');\n",
              "      a.href = window.URL.createObjectURL(blob);\n",
              "      a.download = filename;\n",
              "      div.appendChild(a);\n",
              "      a.click();\n",
              "      div.remove();\n",
              "    }\n",
              "  "
            ],
            "text/plain": [
              "<IPython.core.display.Javascript object>"
            ]
          },
          "metadata": {
            "tags": []
          }
        },
        {
          "output_type": "display_data",
          "data": {
            "application/javascript": [
              "download(\"download_57839a79-ae1b-44eb-971b-195c56d2cfd4\", \"mpre.csv\", 161)"
            ],
            "text/plain": [
              "<IPython.core.display.Javascript object>"
            ]
          },
          "metadata": {
            "tags": []
          }
        }
      ]
    },
    {
      "cell_type": "code",
      "metadata": {
        "id": "yghnkynmN-4b",
        "colab_type": "code",
        "colab": {
          "base_uri": "https://localhost:8080/",
          "height": 17
        },
        "outputId": "9f6ed3e1-c423-4317-9dfe-fe0661ed7053"
      },
      "source": [
        "makrosoomia_peri = pd.crosstab(index=df[\"makrosoomnelaps\"], columns=df[\"perineum\"],margins=True)\n",
        "\n",
        "makrosoomia_peri.index= ['ei', 'makro', \"tulp\"]\n",
        "makrosoomia_peri.columns = [\"ei\",\"rebend\",\"rida\"]\n",
        "\n",
        "mperi=makrosoomia_peri.div(makrosoomia_peri[\"rida\"], axis=0)\n",
        "mperi.to_csv('mperi.csv')\n",
        "files.download('mperi.csv')"
      ],
      "execution_count": null,
      "outputs": [
        {
          "output_type": "display_data",
          "data": {
            "application/javascript": [
              "\n",
              "    async function download(id, filename, size) {\n",
              "      if (!google.colab.kernel.accessAllowed) {\n",
              "        return;\n",
              "      }\n",
              "      const div = document.createElement('div');\n",
              "      const label = document.createElement('label');\n",
              "      label.textContent = `Downloading \"${filename}\": `;\n",
              "      div.appendChild(label);\n",
              "      const progress = document.createElement('progress');\n",
              "      progress.max = size;\n",
              "      div.appendChild(progress);\n",
              "      document.body.appendChild(div);\n",
              "\n",
              "      const buffers = [];\n",
              "      let downloaded = 0;\n",
              "\n",
              "      const channel = await google.colab.kernel.comms.open(id);\n",
              "      // Send a message to notify the kernel that we're ready.\n",
              "      channel.send({})\n",
              "\n",
              "      for await (const message of channel.messages) {\n",
              "        // Send a message to notify the kernel that we're ready.\n",
              "        channel.send({})\n",
              "        if (message.buffers) {\n",
              "          for (const buffer of message.buffers) {\n",
              "            buffers.push(buffer);\n",
              "            downloaded += buffer.byteLength;\n",
              "            progress.value = downloaded;\n",
              "          }\n",
              "        }\n",
              "      }\n",
              "      const blob = new Blob(buffers, {type: 'application/binary'});\n",
              "      const a = document.createElement('a');\n",
              "      a.href = window.URL.createObjectURL(blob);\n",
              "      a.download = filename;\n",
              "      div.appendChild(a);\n",
              "      a.click();\n",
              "      div.remove();\n",
              "    }\n",
              "  "
            ],
            "text/plain": [
              "<IPython.core.display.Javascript object>"
            ]
          },
          "metadata": {
            "tags": []
          }
        },
        {
          "output_type": "display_data",
          "data": {
            "application/javascript": [
              "download(\"download_df0174fc-4906-4054-a399-ab8fbbae76ed\", \"mperi.csv\", 159)"
            ],
            "text/plain": [
              "<IPython.core.display.Javascript object>"
            ]
          },
          "metadata": {
            "tags": []
          }
        }
      ]
    }
  ]
}