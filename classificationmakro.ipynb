{
  "nbformat": 4,
  "nbformat_minor": 0,
  "metadata": {
    "colab": {
      "name": "classificationmakro.ipynb",
      "provenance": [],
      "collapsed_sections": [],
      "authorship_tag": "ABX9TyNbg9awN4sHryu0G4fy6VA0",
      "include_colab_link": true
    },
    "kernelspec": {
      "name": "python3",
      "display_name": "Python 3"
    }
  },
  "cells": [
    {
      "cell_type": "markdown",
      "metadata": {
        "id": "view-in-github",
        "colab_type": "text"
      },
      "source": [
        "<a href=\"https://colab.research.google.com/github/silviapihu/magistritoo/blob/master/classificationmakro.ipynb\" target=\"_parent\"><img src=\"https://colab.research.google.com/assets/colab-badge.svg\" alt=\"Open In Colab\"/></a>"
      ]
    },
    {
      "cell_type": "markdown",
      "metadata": {
        "id": "ncMbpNjqR9OM",
        "colab_type": "text"
      },
      "source": [
        "Erinevate visualiseerimis-, kalibreerimis-, võrdlusmeetodite katsetused\n",
        "https://machinelearningmastery.com/compare-machine-learning-algorithms-python-scikit-learn/\n",
        "https://scikit-learn.org/stable/auto_examples/calibration/plot_compare_calibration.html#sphx-glr-auto-examples-calibration-plot-compare-calibration-py\n",
        "https://stats.stackexchange.com/questions/336404/feature-importance-for-breast-cancer-random-forests-vs-logistic-regression\n",
        "https://www.dummies.com/programming/big-data/data-science/data-science-how-to-create-interactions-between-variables-with-python/\n",
        "\n"
      ]
    },
    {
      "cell_type": "code",
      "metadata": {
        "id": "gOrz7xlF1gAQ",
        "colab_type": "code",
        "colab": {
          "resources": {
            "http://localhost:8080/nbextensions/google.colab/files.js": {
              "data": "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",
              "ok": true,
              "headers": [
                [
                  "content-type",
                  "application/javascript"
                ]
              ],
              "status": 200,
              "status_text": ""
            }
          },
          "base_uri": "https://localhost:8080/",
          "height": 73
        },
        "outputId": "8cac92e2-ee4f-46e1-b808-a07cf800f563"
      },
      "source": [
        "\n",
        "from google.colab import files\n",
        "uploaded = files.upload()"
      ],
      "execution_count": 1,
      "outputs": [
        {
          "output_type": "display_data",
          "data": {
            "text/html": [
              "\n",
              "     <input type=\"file\" id=\"files-eaccbd23-c622-423b-8c4f-4b8939fc096c\" name=\"files[]\" multiple disabled\n",
              "        style=\"border:none\" />\n",
              "     <output id=\"result-eaccbd23-c622-423b-8c4f-4b8939fc096c\">\n",
              "      Upload widget is only available when the cell has been executed in the\n",
              "      current browser session. Please rerun this cell to enable.\n",
              "      </output>\n",
              "      <script src=\"/nbextensions/google.colab/files.js\"></script> "
            ],
            "text/plain": [
              "<IPython.core.display.HTML object>"
            ]
          },
          "metadata": {
            "tags": []
          }
        },
        {
          "output_type": "stream",
          "text": [
            "Saving koos.csv to koos.csv\n"
          ],
          "name": "stdout"
        }
      ]
    },
    {
      "cell_type": "code",
      "metadata": {
        "id": "zE0wUchB2u07",
        "colab_type": "code",
        "colab": {}
      },
      "source": [
        "import pandas as pd\n",
        "import numpy as np\n",
        "\n"
      ],
      "execution_count": 2,
      "outputs": []
    },
    {
      "cell_type": "code",
      "metadata": {
        "id": "qI9GImmt2Q4A",
        "colab_type": "code",
        "colab": {}
      },
      "source": [
        "import io\n",
        "koos = pd.read_csv(io.BytesIO(uploaded['koos.csv']))"
      ],
      "execution_count": 3,
      "outputs": []
    },
    {
      "cell_type": "code",
      "metadata": {
        "id": "zMDtkeX0FzuS",
        "colab_type": "code",
        "colab": {
          "base_uri": "https://localhost:8080/",
          "height": 470
        },
        "outputId": "ceb53b68-e284-4beb-d55f-6c9bfbe7f148"
      },
      "source": [
        "koos.info()"
      ],
      "execution_count": 20,
      "outputs": [
        {
          "output_type": "stream",
          "text": [
            "<class 'pandas.core.frame.DataFrame'>\n",
            "RangeIndex: 5017 entries, 0 to 5016\n",
            "Data columns (total 20 columns):\n",
            " #   Column           Non-Null Count  Dtype  \n",
            "---  ------           --------------  -----  \n",
            " 0   kood             5017 non-null   object \n",
            " 1   Valim            5017 non-null   int64  \n",
            " 2   Vanus            5017 non-null   float64\n",
            " 3   vanusyle40       5017 non-null   int64  \n",
            " 4   Kaal             5012 non-null   float64\n",
            " 5   KMI              5012 non-null   float64\n",
            " 6   KMIyle25         4994 non-null   float64\n",
            " 7   DM_sugul         5017 non-null   int64  \n",
            " 8   PCOS             5017 non-null   int64  \n",
            " 9   suur_laps_varem  5017 non-null   int64  \n",
            " 10  paastusuhkur     4952 non-null   float64\n",
            " 11  polyhydramnion   5017 non-null   int64  \n",
            " 12  gdm_riskiryhm    5017 non-null   int64  \n",
            " 13  GDM              5017 non-null   int64  \n",
            " 14  GA               5017 non-null   int64  \n",
            " 15  synnitus         5017 non-null   int64  \n",
            " 16  sugu             5011 non-null   float64\n",
            " 17  synnikaal        5017 non-null   int64  \n",
            " 18  WeightZScore     5010 non-null   float64\n",
            " 19  Makrosoomia      5017 non-null   int64  \n",
            "dtypes: float64(7), int64(12), object(1)\n",
            "memory usage: 784.0+ KB\n"
          ],
          "name": "stdout"
        }
      ]
    },
    {
      "cell_type": "code",
      "metadata": {
        "id": "VSUz8hrnESdh",
        "colab_type": "code",
        "colab": {}
      },
      "source": [
        "makro1 = koos[['DM_sugul','Vanus', 'sugu', 'KMI', 'suur_laps_varem', 'paastusuhkur', 'polyhydramnion', 'PCOS', 'gdm_riskiryhm', 'Makrosoomia']]"
      ],
      "execution_count": 22,
      "outputs": []
    },
    {
      "cell_type": "code",
      "metadata": {
        "id": "CimwH9jUqp7U",
        "colab_type": "code",
        "colab": {}
      },
      "source": [
        "makro2 = koos[['DM_sugul','Vanus', 'KMI', 'suur_laps_varem', 'paastusuhkur', 'PCOS', 'Makrosoomia']]"
      ],
      "execution_count": 35,
      "outputs": []
    },
    {
      "cell_type": "code",
      "metadata": {
        "id": "b7ZDVazMdO-J",
        "colab_type": "code",
        "colab": {
          "base_uri": "https://localhost:8080/",
          "height": 284
        },
        "outputId": "963efc0c-696f-4056-c077-055506e2f792"
      },
      "source": [
        "makro1=makro1.dropna()\n",
        "makro1.describe()"
      ],
      "execution_count": 60,
      "outputs": [
        {
          "output_type": "execute_result",
          "data": {
            "text/html": [
              "<div>\n",
              "<style scoped>\n",
              "    .dataframe tbody tr th:only-of-type {\n",
              "        vertical-align: middle;\n",
              "    }\n",
              "\n",
              "    .dataframe tbody tr th {\n",
              "        vertical-align: top;\n",
              "    }\n",
              "\n",
              "    .dataframe thead th {\n",
              "        text-align: right;\n",
              "    }\n",
              "</style>\n",
              "<table border=\"1\" class=\"dataframe\">\n",
              "  <thead>\n",
              "    <tr style=\"text-align: right;\">\n",
              "      <th></th>\n",
              "      <th>DM_sugul</th>\n",
              "      <th>Vanus</th>\n",
              "      <th>sugu</th>\n",
              "      <th>KMI</th>\n",
              "      <th>suur_laps_varem</th>\n",
              "      <th>paastusuhkur</th>\n",
              "      <th>polyhydramnion</th>\n",
              "      <th>PCOS</th>\n",
              "      <th>gdm_riskiryhm</th>\n",
              "      <th>Makrosoomia</th>\n",
              "    </tr>\n",
              "  </thead>\n",
              "  <tbody>\n",
              "    <tr>\n",
              "      <th>count</th>\n",
              "      <td>4941.000000</td>\n",
              "      <td>4941.000000</td>\n",
              "      <td>4941.000000</td>\n",
              "      <td>4941.000000</td>\n",
              "      <td>4941.000000</td>\n",
              "      <td>4941.000000</td>\n",
              "      <td>4941.000000</td>\n",
              "      <td>4941.000000</td>\n",
              "      <td>4941.000000</td>\n",
              "      <td>4941.000000</td>\n",
              "    </tr>\n",
              "    <tr>\n",
              "      <th>mean</th>\n",
              "      <td>0.093908</td>\n",
              "      <td>29.302545</td>\n",
              "      <td>1.481886</td>\n",
              "      <td>23.564588</td>\n",
              "      <td>0.021656</td>\n",
              "      <td>0.154422</td>\n",
              "      <td>0.019834</td>\n",
              "      <td>0.011739</td>\n",
              "      <td>0.990285</td>\n",
              "      <td>0.114956</td>\n",
              "    </tr>\n",
              "    <tr>\n",
              "      <th>std</th>\n",
              "      <td>0.291730</td>\n",
              "      <td>5.323188</td>\n",
              "      <td>0.499722</td>\n",
              "      <td>4.547652</td>\n",
              "      <td>0.145571</td>\n",
              "      <td>0.361390</td>\n",
              "      <td>0.139444</td>\n",
              "      <td>0.107718</td>\n",
              "      <td>1.034969</td>\n",
              "      <td>0.319002</td>\n",
              "    </tr>\n",
              "    <tr>\n",
              "      <th>min</th>\n",
              "      <td>0.000000</td>\n",
              "      <td>14.000000</td>\n",
              "      <td>1.000000</td>\n",
              "      <td>14.500000</td>\n",
              "      <td>0.000000</td>\n",
              "      <td>0.000000</td>\n",
              "      <td>0.000000</td>\n",
              "      <td>0.000000</td>\n",
              "      <td>0.000000</td>\n",
              "      <td>0.000000</td>\n",
              "    </tr>\n",
              "    <tr>\n",
              "      <th>25%</th>\n",
              "      <td>0.000000</td>\n",
              "      <td>25.963039</td>\n",
              "      <td>1.000000</td>\n",
              "      <td>20.478267</td>\n",
              "      <td>0.000000</td>\n",
              "      <td>0.000000</td>\n",
              "      <td>0.000000</td>\n",
              "      <td>0.000000</td>\n",
              "      <td>0.000000</td>\n",
              "      <td>0.000000</td>\n",
              "    </tr>\n",
              "    <tr>\n",
              "      <th>50%</th>\n",
              "      <td>0.000000</td>\n",
              "      <td>29.000000</td>\n",
              "      <td>1.000000</td>\n",
              "      <td>22.500000</td>\n",
              "      <td>0.000000</td>\n",
              "      <td>0.000000</td>\n",
              "      <td>0.000000</td>\n",
              "      <td>0.000000</td>\n",
              "      <td>1.000000</td>\n",
              "      <td>0.000000</td>\n",
              "    </tr>\n",
              "    <tr>\n",
              "      <th>75%</th>\n",
              "      <td>0.000000</td>\n",
              "      <td>33.000000</td>\n",
              "      <td>2.000000</td>\n",
              "      <td>25.559329</td>\n",
              "      <td>0.000000</td>\n",
              "      <td>0.000000</td>\n",
              "      <td>0.000000</td>\n",
              "      <td>0.000000</td>\n",
              "      <td>2.000000</td>\n",
              "      <td>0.000000</td>\n",
              "    </tr>\n",
              "    <tr>\n",
              "      <th>max</th>\n",
              "      <td>1.000000</td>\n",
              "      <td>47.000000</td>\n",
              "      <td>2.000000</td>\n",
              "      <td>53.200000</td>\n",
              "      <td>1.000000</td>\n",
              "      <td>1.000000</td>\n",
              "      <td>1.000000</td>\n",
              "      <td>1.000000</td>\n",
              "      <td>3.000000</td>\n",
              "      <td>1.000000</td>\n",
              "    </tr>\n",
              "  </tbody>\n",
              "</table>\n",
              "</div>"
            ],
            "text/plain": [
              "          DM_sugul        Vanus  ...  gdm_riskiryhm  Makrosoomia\n",
              "count  4941.000000  4941.000000  ...    4941.000000  4941.000000\n",
              "mean      0.093908    29.302545  ...       0.990285     0.114956\n",
              "std       0.291730     5.323188  ...       1.034969     0.319002\n",
              "min       0.000000    14.000000  ...       0.000000     0.000000\n",
              "25%       0.000000    25.963039  ...       0.000000     0.000000\n",
              "50%       0.000000    29.000000  ...       1.000000     0.000000\n",
              "75%       0.000000    33.000000  ...       2.000000     0.000000\n",
              "max       1.000000    47.000000  ...       3.000000     1.000000\n",
              "\n",
              "[8 rows x 10 columns]"
            ]
          },
          "metadata": {
            "tags": []
          },
          "execution_count": 60
        }
      ]
    },
    {
      "cell_type": "markdown",
      "metadata": {
        "id": "lqk96QSPGpbn",
        "colab_type": "text"
      },
      "source": [
        "tasakaalustamata andmed. kasutan positiivse ms väärtusega ridade paljundamist ja negatiivsete vähendamist"
      ]
    },
    {
      "cell_type": "code",
      "metadata": {
        "colab_type": "code",
        "id": "AYPp6RdGjuhx",
        "colab": {
          "base_uri": "https://localhost:8080/",
          "height": 205
        },
        "outputId": "f79f213a-113f-45f3-c48c-ca6e41964dba"
      },
      "source": [
        "from collections import Counter\n",
        "from imblearn.combine import SMOTEENN\n",
        "y = makro1.Makrosoomia\n",
        "X = makro1.drop('Makrosoomia', 1)\n",
        "# summarize class distribution\n",
        "print(Counter(y))\n",
        "# define sampling strategy\n",
        "sample = SMOTEENN(sampling_strategy=0.5, random_state=1)\n",
        "# fit and apply the transform\n",
        "X_over, y_over = sample.fit_resample(X, y)\n",
        "# summarize class distribution\n",
        "print(Counter(y_over))"
      ],
      "execution_count": 62,
      "outputs": [
        {
          "output_type": "stream",
          "text": [
            "Counter({0: 4373, 1: 568})\n",
            "Counter({0: 2657, 1: 1077})\n"
          ],
          "name": "stdout"
        },
        {
          "output_type": "stream",
          "text": [
            "/usr/local/lib/python3.6/dist-packages/sklearn/utils/deprecation.py:87: FutureWarning: Function safe_indexing is deprecated; safe_indexing is deprecated in version 0.22 and will be removed in version 0.24.\n",
            "  warnings.warn(msg, category=FutureWarning)\n",
            "/usr/local/lib/python3.6/dist-packages/sklearn/utils/deprecation.py:87: FutureWarning: Function safe_indexing is deprecated; safe_indexing is deprecated in version 0.22 and will be removed in version 0.24.\n",
            "  warnings.warn(msg, category=FutureWarning)\n",
            "/usr/local/lib/python3.6/dist-packages/sklearn/utils/deprecation.py:87: FutureWarning: Function safe_indexing is deprecated; safe_indexing is deprecated in version 0.22 and will be removed in version 0.24.\n",
            "  warnings.warn(msg, category=FutureWarning)\n",
            "/usr/local/lib/python3.6/dist-packages/sklearn/utils/deprecation.py:87: FutureWarning: Function safe_indexing is deprecated; safe_indexing is deprecated in version 0.22 and will be removed in version 0.24.\n",
            "  warnings.warn(msg, category=FutureWarning)\n"
          ],
          "name": "stderr"
        }
      ]
    },
    {
      "cell_type": "code",
      "metadata": {
        "id": "2lbOzSHjoycv",
        "colab_type": "code",
        "colab": {}
      },
      "source": [
        "from sklearn import preprocessing\n",
        "X_scaled = preprocessing.scale(X_over)"
      ],
      "execution_count": 63,
      "outputs": []
    },
    {
      "cell_type": "code",
      "metadata": {
        "id": "M4C8M4rlkGOe",
        "colab_type": "code",
        "colab": {
          "base_uri": "https://localhost:8080/",
          "height": 34
        },
        "outputId": "7430fff1-5a83-4a47-eae4-7cfb8d5546df"
      },
      "source": [
        "X_scaled.shape"
      ],
      "execution_count": 64,
      "outputs": [
        {
          "output_type": "execute_result",
          "data": {
            "text/plain": [
              "(3734, 9)"
            ]
          },
          "metadata": {
            "tags": []
          },
          "execution_count": 64
        }
      ]
    },
    {
      "cell_type": "markdown",
      "metadata": {
        "id": "cTNhS9bEA2Th",
        "colab_type": "text"
      },
      "source": [
        "Mudelite võrdlus"
      ]
    },
    {
      "cell_type": "code",
      "metadata": {
        "id": "FAYhBndE5h53",
        "colab_type": "code",
        "colab": {
          "base_uri": "https://localhost:8080/",
          "height": 667
        },
        "outputId": "e7a86cca-b123-49b7-d0cd-da08b752b52e"
      },
      "source": [
        "import matplotlib.pyplot as plt\n",
        "from sklearn import model_selection\n",
        "from sklearn.naive_bayes import GaussianNB\n",
        "from sklearn.linear_model import LogisticRegression\n",
        "from sklearn.discriminant_analysis import LinearDiscriminantAnalysis\n",
        "from sklearn.neighbors import KNeighborsClassifier\n",
        "from sklearn.tree import DecisionTreeClassifier\n",
        "from sklearn.svm import SVC\n",
        "from sklearn.ensemble import RandomForestClassifier\n",
        "from sklearn.metrics import *\n",
        "seed = 1\n",
        "# prepare models\n",
        "models = []\n",
        "models.append(('LR', LogisticRegression()))\n",
        "models.append(('LDA', LinearDiscriminantAnalysis()))\n",
        "models.append(('KNN', KNeighborsClassifier()))\n",
        "models.append(('DT', DecisionTreeClassifier()))\n",
        "models.append(('GNB', GaussianNB()))\n",
        "models.append(('SVM', SVC()))\n",
        "models.append(('RF', RandomForestClassifier()))\n",
        "# evaluate each model in turn\n",
        "results = []\n",
        "names = []\n",
        "scoring = 'accuracy'\n",
        "for name, model in models:\n",
        "\tkfold = model_selection.KFold(n_splits=10, random_state=seed)\n",
        "\tcv_results = model_selection.cross_val_score(model, X_scaled, y_over, cv=kfold, scoring=scoring)\n",
        "\tresults.append(cv_results)\n",
        "\tnames.append(name)\n",
        "\tmsg = \"%s: %f (%f)\" % (name, cv_results.mean(), cv_results.std())\n",
        "\tprint(msg)\n",
        "# boxplot algorithm comparison\n",
        "fig = plt.figure()\n",
        "fig.suptitle('Algoritmide võrdlus')\n",
        "ax = fig.add_subplot(111)\n",
        "plt.boxplot(results)\n",
        "ax.set_xticklabels(names)\n",
        "\n",
        "plt.savefig('mudelid.png')\n",
        "files.download('mudelid.png')\n",
        "plt.show()"
      ],
      "execution_count": 50,
      "outputs": [
        {
          "output_type": "stream",
          "text": [
            "/usr/local/lib/python3.6/dist-packages/sklearn/model_selection/_split.py:296: FutureWarning: Setting a random_state has no effect since shuffle is False. This will raise an error in 0.24. You should leave random_state to its default (None), or set shuffle=True.\n",
            "  FutureWarning\n",
            "/usr/local/lib/python3.6/dist-packages/sklearn/model_selection/_split.py:296: FutureWarning: Setting a random_state has no effect since shuffle is False. This will raise an error in 0.24. You should leave random_state to its default (None), or set shuffle=True.\n",
            "  FutureWarning\n"
          ],
          "name": "stderr"
        },
        {
          "output_type": "stream",
          "text": [
            "LR: 0.772109 (0.318447)\n",
            "LDA: 0.783522 (0.302411)\n"
          ],
          "name": "stdout"
        },
        {
          "output_type": "stream",
          "text": [
            "/usr/local/lib/python3.6/dist-packages/sklearn/model_selection/_split.py:296: FutureWarning: Setting a random_state has no effect since shuffle is False. This will raise an error in 0.24. You should leave random_state to its default (None), or set shuffle=True.\n",
            "  FutureWarning\n"
          ],
          "name": "stderr"
        },
        {
          "output_type": "stream",
          "text": [
            "KNN: 0.610130 (0.142405)\n",
            "DT: 0.442616 (0.258707)\n",
            "GNB: 0.794339 (0.285341)\n"
          ],
          "name": "stdout"
        },
        {
          "output_type": "stream",
          "text": [
            "/usr/local/lib/python3.6/dist-packages/sklearn/model_selection/_split.py:296: FutureWarning: Setting a random_state has no effect since shuffle is False. This will raise an error in 0.24. You should leave random_state to its default (None), or set shuffle=True.\n",
            "  FutureWarning\n",
            "/usr/local/lib/python3.6/dist-packages/sklearn/model_selection/_split.py:296: FutureWarning: Setting a random_state has no effect since shuffle is False. This will raise an error in 0.24. You should leave random_state to its default (None), or set shuffle=True.\n",
            "  FutureWarning\n",
            "/usr/local/lib/python3.6/dist-packages/sklearn/model_selection/_split.py:296: FutureWarning: Setting a random_state has no effect since shuffle is False. This will raise an error in 0.24. You should leave random_state to its default (None), or set shuffle=True.\n",
            "  FutureWarning\n"
          ],
          "name": "stderr"
        },
        {
          "output_type": "stream",
          "text": [
            "SVM: 0.823437 (0.257892)\n"
          ],
          "name": "stdout"
        },
        {
          "output_type": "stream",
          "text": [
            "/usr/local/lib/python3.6/dist-packages/sklearn/model_selection/_split.py:296: FutureWarning: Setting a random_state has no effect since shuffle is False. This will raise an error in 0.24. You should leave random_state to its default (None), or set shuffle=True.\n",
            "  FutureWarning\n"
          ],
          "name": "stderr"
        },
        {
          "output_type": "stream",
          "text": [
            "RF: 0.494777 (0.236130)\n"
          ],
          "name": "stdout"
        },
        {
          "output_type": "display_data",
          "data": {
            "application/javascript": [
              "\n",
              "    async function download(id, filename, size) {\n",
              "      if (!google.colab.kernel.accessAllowed) {\n",
              "        return;\n",
              "      }\n",
              "      const div = document.createElement('div');\n",
              "      const label = document.createElement('label');\n",
              "      label.textContent = `Downloading \"${filename}\": `;\n",
              "      div.appendChild(label);\n",
              "      const progress = document.createElement('progress');\n",
              "      progress.max = size;\n",
              "      div.appendChild(progress);\n",
              "      document.body.appendChild(div);\n",
              "\n",
              "      const buffers = [];\n",
              "      let downloaded = 0;\n",
              "\n",
              "      const channel = await google.colab.kernel.comms.open(id);\n",
              "      // Send a message to notify the kernel that we're ready.\n",
              "      channel.send({})\n",
              "\n",
              "      for await (const message of channel.messages) {\n",
              "        // Send a message to notify the kernel that we're ready.\n",
              "        channel.send({})\n",
              "        if (message.buffers) {\n",
              "          for (const buffer of message.buffers) {\n",
              "            buffers.push(buffer);\n",
              "            downloaded += buffer.byteLength;\n",
              "            progress.value = downloaded;\n",
              "          }\n",
              "        }\n",
              "      }\n",
              "      const blob = new Blob(buffers, {type: 'application/binary'});\n",
              "      const a = document.createElement('a');\n",
              "      a.href = window.URL.createObjectURL(blob);\n",
              "      a.download = filename;\n",
              "      div.appendChild(a);\n",
              "      a.click();\n",
              "      div.remove();\n",
              "    }\n",
              "  "
            ],
            "text/plain": [
              "<IPython.core.display.Javascript object>"
            ]
          },
          "metadata": {
            "tags": []
          }
        },
        {
          "output_type": "display_data",
          "data": {
            "application/javascript": [
              "download(\"download_f48c9a74-e792-4bd0-9447-17ac1863498b\", \"mudelid.png\", 8684)"
            ],
            "text/plain": [
              "<IPython.core.display.Javascript object>"
            ]
          },
          "metadata": {
            "tags": []
          }
        },
        {
          "output_type": "display_data",
          "data": {
            "image/png": "[encoded data removed]",
            "text/plain": [
              "<Figure size 432x288 with 1 Axes>"
            ]
          },
          "metadata": {
            "tags": [],
            "needs_background": "light"
          }
        }
      ]
    },
    {
      "cell_type": "code",
      "metadata": {
        "id": "EF_RKVT8GEVx",
        "colab_type": "code",
        "colab": {
          "base_uri": "https://localhost:8080/",
          "height": 863
        },
        "outputId": "e502a9b5-5d97-47a0-b0a3-328b0301885c"
      },
      "source": [
        "\n",
        "from sklearn.model_selection import train_test_split\n",
        "X_train, X_test, y_train, y_test = train_test_split(X_transformed, y_over,test_size=0.3, random_state=1)\n",
        "from sklearn.calibration import calibration_curve\n",
        "import matplotlib.pyplot as plt\n",
        "\n",
        "# Create classifiers\n",
        "lr = LogisticRegression()\n",
        "gnb = GaussianNB()\n",
        "lda = LinearDiscriminantAnalysis()\n",
        "svc = SVC()\n",
        "rfc = RandomForestClassifier()\n",
        "\n",
        "\n",
        "# #############################################################################\n",
        "# Plot calibration plots\n",
        "\n",
        "plt.figure(figsize=(10, 10))\n",
        "ax1 = plt.subplot2grid((3, 1), (0, 0), rowspan=2)\n",
        "ax2 = plt.subplot2grid((3, 1), (2, 0))\n",
        "\n",
        "ax1.plot([0, 1], [0, 1], \"k:\", label=\"Ideaalne kalibreering\")\n",
        "for clf, name in [(lr, 'LR'),\n",
        "                  (gnb, 'GNB'),\n",
        "                  (lda, 'LDA'),\n",
        "                  (svc, 'SVM'),\n",
        "                  (rfc, 'RF')]:\n",
        "    clf.fit(X_train, y_train)\n",
        "    if hasattr(clf, \"predict_proba\"):\n",
        "        prob_pos = clf.predict_proba(X_test)[:, 1]\n",
        "    else:  # use decision function\n",
        "        prob_pos = clf.decision_function(X_test)\n",
        "        prob_pos = \\\n",
        "            (prob_pos - prob_pos.min()) / (prob_pos.max() - prob_pos.min())\n",
        "    fraction_of_positives, mean_predicted_value = \\\n",
        "        calibration_curve(y_test, prob_pos, n_bins=10)\n",
        "\n",
        "    ax1.plot(mean_predicted_value, fraction_of_positives, \"s-\",\n",
        "             label=\"%s\" % (name, ))\n",
        "\n",
        "    ax2.hist(prob_pos, range=(0, 1), bins=10, label=name,\n",
        "             histtype=\"step\", lw=2)\n",
        "\n",
        "ax1.set_ylabel(\"Positiivsete osakaal\")\n",
        "ax1.set_ylim([-0.05, 1.05])\n",
        "ax1.legend(loc=\"lower right\")\n",
        "ax1.set_title('Kalibreeritud usaldusväärsuse kõverad')\n",
        "\n",
        "ax2.set_xlabel(\"Keskmine ennustatud väärtus\")\n",
        "ax2.set_ylabel(\"Arv\")\n",
        "ax2.legend(loc=\"upper center\", ncol=2)\n",
        "\n",
        "plt.tight_layout()\n",
        "plt.show()\n"
      ],
      "execution_count": 72,
      "outputs": [
        {
          "output_type": "stream",
          "text": [
            "/usr/local/lib/python3.6/dist-packages/sklearn/linear_model/_logistic.py:940: ConvergenceWarning: lbfgs failed to converge (status=1):\n",
            "STOP: TOTAL NO. of ITERATIONS REACHED LIMIT.\n",
            "\n",
            "Increase the number of iterations (max_iter) or scale the data as shown in:\n",
            "    https://scikit-learn.org/stable/modules/preprocessing.html\n",
            "Please also refer to the documentation for alternative solver options:\n",
            "    https://scikit-learn.org/stable/modules/linear_model.html#logistic-regression\n",
            "  extra_warning_msg=_LOGISTIC_SOLVER_CONVERGENCE_MSG)\n"
          ],
          "name": "stderr"
        },
        {
          "output_type": "display_data",
          "data": {
            "image/png": "[encoded data removed]",
            "text/plain": [
              "<Figure size 720x720 with 2 Axes>"
            ]
          },
          "metadata": {
            "tags": [],
            "needs_background": "light"
          }
        }
      ]
    },
    {
      "cell_type": "code",
      "metadata": {
        "id": "dXlAszSla1es",
        "colab_type": "code",
        "colab": {
          "base_uri": "https://localhost:8080/",
          "height": 218
        },
        "outputId": "9e512e43-db3e-4241-f542-7b2e3b1c64b3"
      },
      "source": [
        "from sklearn.model_selection import GridSearchCV\n",
        "from sklearn.metrics import *\n",
        "logi=LogisticRegression()\n",
        "params = {'penalty' : ['l1', 'l2'],\n",
        "    'C' : np.logspace(-4, 4, 20),\n",
        "    'solver' : ['newton-cg', 'lbfgs', 'liblinear', 'sag', 'saga']}\n",
        "grid_lr = GridSearchCV(estimator = logi,\n",
        "                        param_grid = params,\n",
        "                        scoring = 'roc_auc', \n",
        "                        cv = 5, \n",
        "                        verbose = 1,\n",
        "                        n_jobs = -1)\n",
        "\n",
        "grid_lr.fit(X_train, y_train)\n",
        "print(grid_lr.score(X_test, y_test))\n",
        "print(grid_lr.best_estimator_)"
      ],
      "execution_count": 73,
      "outputs": [
        {
          "output_type": "stream",
          "text": [
            "Fitting 5 folds for each of 200 candidates, totalling 1000 fits\n"
          ],
          "name": "stdout"
        },
        {
          "output_type": "stream",
          "text": [
            "[Parallel(n_jobs=-1)]: Using backend LokyBackend with 2 concurrent workers.\n",
            "[Parallel(n_jobs=-1)]: Done 230 tasks      | elapsed:    8.8s\n",
            "[Parallel(n_jobs=-1)]: Done 596 tasks      | elapsed:   58.0s\n",
            "[Parallel(n_jobs=-1)]: Done 902 tasks      | elapsed:  5.0min\n",
            "[Parallel(n_jobs=-1)]: Done 1000 out of 1000 | elapsed:  6.2min finished\n"
          ],
          "name": "stderr"
        },
        {
          "output_type": "stream",
          "text": [
            "0.8871619620805289\n",
            "LogisticRegression(C=1.623776739188721, class_weight=None, dual=False,\n",
            "                   fit_intercept=True, intercept_scaling=1, l1_ratio=None,\n",
            "                   max_iter=100, multi_class='auto', n_jobs=None, penalty='l1',\n",
            "                   random_state=None, solver='liblinear', tol=0.0001, verbose=0,\n",
            "                   warm_start=False)\n"
          ],
          "name": "stdout"
        }
      ]
    },
    {
      "cell_type": "markdown",
      "metadata": {
        "id": "pzX1C0b0DdCb",
        "colab_type": "text"
      },
      "source": [
        "Võrkotsing"
      ]
    },
    {
      "cell_type": "code",
      "metadata": {
        "id": "rTDRTxGKxsHr",
        "colab_type": "code",
        "colab": {
          "base_uri": "https://localhost:8080/",
          "height": 319
        },
        "outputId": "704b7d1b-0c4c-4941-b307-b1a16e02e779"
      },
      "source": [
        "from sklearn.model_selection import GridSearchCV\n",
        "from sklearn.metrics import *\n",
        "forest = RandomForestClassifier(random_state = 1)\n",
        "params = { 'n_estimators' : [100, 300, 500, 800, 1200],\n",
        "'max_depth' : [5, 8, 15, 25, 30],\n",
        "'min_samples_split' : [2, 5, 10, 20],\n",
        "'min_samples_leaf' : [1, 2, 4, 7]}\n",
        "grid_rf=GridSearchCV(estimator = forest,\n",
        "                        param_grid = params,\n",
        "                        scoring = 'roc_auc', \n",
        "                        cv = 5, \n",
        "                        verbose = 1,\n",
        "                        n_jobs = -1)\n",
        "\n",
        "grid_rf.fit(X_train, y_train)\n",
        "print(grid_rf.score(X_test, y_test))\n",
        "print(grid_rf.best_estimator_)"
      ],
      "execution_count": 69,
      "outputs": [
        {
          "output_type": "stream",
          "text": [
            "Fitting 5 folds for each of 400 candidates, totalling 2000 fits\n"
          ],
          "name": "stdout"
        },
        {
          "output_type": "stream",
          "text": [
            "[Parallel(n_jobs=-1)]: Using backend LokyBackend with 2 concurrent workers.\n",
            "[Parallel(n_jobs=-1)]: Done  46 tasks      | elapsed:   48.1s\n",
            "[Parallel(n_jobs=-1)]: Done 196 tasks      | elapsed:  3.6min\n",
            "[Parallel(n_jobs=-1)]: Done 446 tasks      | elapsed:  8.3min\n",
            "[Parallel(n_jobs=-1)]: Done 796 tasks      | elapsed: 15.5min\n",
            "[Parallel(n_jobs=-1)]: Done 1246 tasks      | elapsed: 25.6min\n",
            "[Parallel(n_jobs=-1)]: Done 1796 tasks      | elapsed: 38.0min\n",
            "[Parallel(n_jobs=-1)]: Done 2000 out of 2000 | elapsed: 42.5min finished\n"
          ],
          "name": "stderr"
        },
        {
          "output_type": "stream",
          "text": [
            "0.9819246252471008\n",
            "RandomForestClassifier(bootstrap=True, ccp_alpha=0.0, class_weight=None,\n",
            "                       criterion='gini', max_depth=30, max_features='auto',\n",
            "                       max_leaf_nodes=None, max_samples=None,\n",
            "                       min_impurity_decrease=0.0, min_impurity_split=None,\n",
            "                       min_samples_leaf=1, min_samples_split=2,\n",
            "                       min_weight_fraction_leaf=0.0, n_estimators=300,\n",
            "                       n_jobs=None, oob_score=False, random_state=1, verbose=0,\n",
            "                       warm_start=False)\n"
          ],
          "name": "stdout"
        }
      ]
    },
    {
      "cell_type": "markdown",
      "metadata": {
        "id": "lCsJd-o-Dgt8",
        "colab_type": "text"
      },
      "source": [
        "Tunnuste olulisus"
      ]
    },
    {
      "cell_type": "code",
      "metadata": {
        "id": "LZGnhZUGQmHq",
        "colab_type": "code",
        "colab": {
          "base_uri": "https://localhost:8080/",
          "height": 559
        },
        "outputId": "ec0af81f-28cb-489c-a29b-e9bfbe56d0e9"
      },
      "source": [
        "clf = RandomForestClassifier(bootstrap=True, ccp_alpha=0.0, class_weight=None,\n",
        "                       criterion='gini', max_depth=25, max_features='auto',\n",
        "                       max_leaf_nodes=None, max_samples=None,\n",
        "                       min_impurity_decrease=0.0, min_impurity_split=None,\n",
        "                       min_samples_leaf=1, min_samples_split=2,\n",
        "                       min_weight_fraction_leaf=0.0, n_estimators=500,\n",
        "                       n_jobs=None, oob_score=False, random_state=1, verbose=0,\n",
        "                       warm_start=False)\n",
        "clf.fit(X_scaled, y_over)\n",
        "coefs = clf.feature_importances_\n",
        "\n",
        "indices = np.argsort(coefs)[::-1]\n",
        "\n",
        "plt.figure()\n",
        "plt.title(\"Tunnuste olulisus (RF)\")\n",
        "plt.bar(range(6), coefs[indices[:6]],\n",
        "       color=\"r\", align=\"center\")\n",
        "plt.xticks(range(6), makro2.columns[indices[:6]], rotation=45, ha='right')\n",
        "plt.subplots_adjust(bottom=0.3)\n",
        "\n",
        "clf = LogisticRegression(C=0.0018329807108324356, class_weight=None, dual=False,\n",
        "                   fit_intercept=True, intercept_scaling=1, l1_ratio=None,\n",
        "                   max_iter=100, multi_class='auto', n_jobs=None, penalty='l2',\n",
        "                   random_state=None, solver='sag', tol=0.0001, verbose=0,\n",
        "                   warm_start=False) \n",
        "clf.fit(X_scaled, y_over)\n",
        "coefs = np.abs(clf.coef_[0])\n",
        "indices = np.argsort(coefs)[::-1]\n",
        "\n",
        "plt.figure()\n",
        "plt.title(\"Tunnuste olulisus (LR)\")\n",
        "plt.bar(range(6), coefs[indices[:6]],\n",
        "       color=\"r\", align=\"center\")\n",
        "plt.xticks(range(6), makro2.columns[indices[:6]], rotation=45, ha='right')\n",
        "plt.subplots_adjust(bottom=0.3)\n",
        "\n",
        "plt.ion(); \n",
        "plt.savefig('tunnused.png')\n",
        "files.download('tunnused.png')\n",
        "plt.show()"
      ],
      "execution_count": 52,
      "outputs": [
        {
          "output_type": "display_data",
          "data": {
            "application/javascript": [
              "\n",
              "    async function download(id, filename, size) {\n",
              "      if (!google.colab.kernel.accessAllowed) {\n",
              "        return;\n",
              "      }\n",
              "      const div = document.createElement('div');\n",
              "      const label = document.createElement('label');\n",
              "      label.textContent = `Downloading \"${filename}\": `;\n",
              "      div.appendChild(label);\n",
              "      const progress = document.createElement('progress');\n",
              "      progress.max = size;\n",
              "      div.appendChild(progress);\n",
              "      document.body.appendChild(div);\n",
              "\n",
              "      const buffers = [];\n",
              "      let downloaded = 0;\n",
              "\n",
              "      const channel = await google.colab.kernel.comms.open(id);\n",
              "      // Send a message to notify the kernel that we're ready.\n",
              "      channel.send({})\n",
              "\n",
              "      for await (const message of channel.messages) {\n",
              "        // Send a message to notify the kernel that we're ready.\n",
              "        channel.send({})\n",
              "        if (message.buffers) {\n",
              "          for (const buffer of message.buffers) {\n",
              "            buffers.push(buffer);\n",
              "            downloaded += buffer.byteLength;\n",
              "            progress.value = downloaded;\n",
              "          }\n",
              "        }\n",
              "      }\n",
              "      const blob = new Blob(buffers, {type: 'application/binary'});\n",
              "      const a = document.createElement('a');\n",
              "      a.href = window.URL.createObjectURL(blob);\n",
              "      a.download = filename;\n",
              "      div.appendChild(a);\n",
              "      a.click();\n",
              "      div.remove();\n",
              "    }\n",
              "  "
            ],
            "text/plain": [
              "<IPython.core.display.Javascript object>"
            ]
          },
          "metadata": {
            "tags": []
          }
        },
        {
          "output_type": "display_data",
          "data": {
            "application/javascript": [
              "download(\"download_af235dea-6acf-443c-83ff-6cd2e1587f91\", \"tunnused.png\", 15105)"
            ],
            "text/plain": [
              "<IPython.core.display.Javascript object>"
            ]
          },
          "metadata": {
            "tags": []
          }
        },
        {
          "output_type": "display_data",
          "data": {
            "image/png": "[encoded data removed]",
            "text/plain": [
              "<Figure size 432x288 with 1 Axes>"
            ]
          },
          "metadata": {
            "tags": [],
            "needs_background": "light"
          }
        },
        {
          "output_type": "display_data",
          "data": {
            "image/png": "[encoded data removed]",
            "text/plain": [
              "<Figure size 432x288 with 1 Axes>"
            ]
          },
          "metadata": {
            "tags": [],
            "needs_background": "light"
          }
        }
      ]
    },
    {
      "cell_type": "markdown",
      "metadata": {
        "id": "eMmo43H6DkZq",
        "colab_type": "text"
      },
      "source": [
        "Kriteeriumide arvutus"
      ]
    },
    {
      "cell_type": "code",
      "metadata": {
        "id": "N8ehVztkiIrL",
        "colab_type": "code",
        "colab": {
          "base_uri": "https://localhost:8080/",
          "height": 1000
        },
        "outputId": "2a880adc-057d-4f74-ccb8-a56ebe9478c5"
      },
      "source": [
        "!pip install pycm\n",
        "from pycm import *\n",
        "\n",
        "model=LogisticRegression(C=1.623776739188721, class_weight=None, dual=False,\n",
        "                   fit_intercept=True, intercept_scaling=1, l1_ratio=None,\n",
        "                   max_iter=100, multi_class='auto', n_jobs=None, penalty='l1',\n",
        "                   random_state=None, solver='liblinear', tol=0.0001, verbose=0,\n",
        "                   warm_start=False)\n",
        "model.fit(X_train, y_train)\n",
        "cm = ConfusionMatrix(y_test, model.predict(X_test))\n",
        "print(cm)"
      ],
      "execution_count": 74,
      "outputs": [
        {
          "output_type": "stream",
          "text": [
            "Requirement already satisfied: pycm in /usr/local/lib/python3.6/dist-packages (2.8)\n",
            "Requirement already satisfied: art>=1.8 in /usr/local/lib/python3.6/dist-packages (from pycm) (4.7)\n",
            "Requirement already satisfied: numpy>=1.9.0 in /usr/local/lib/python3.6/dist-packages (from pycm) (1.18.5)\n",
            "Predict   0         1         \n",
            "Actual\n",
            "0         804       10        \n",
            "\n",
            "1         135       172       \n",
            "\n",
            "\n",
            "\n",
            "\n",
            "\n",
            "Overall Statistics : \n",
            "\n",
            "95% CI                                                            (0.85101,0.8903)\n",
            "ACC Macro                                                         0.87065\n",
            "ARI                                                               0.50298\n",
            "AUNP                                                              0.77399\n",
            "AUNU                                                              0.77399\n",
            "Bangdiwala B                                                      0.82417\n",
            "Bennett S                                                         0.7413\n",
            "CBA                                                               0.70825\n",
            "CSI                                                               0.67463\n",
            "Chi-Squared                                                       492.21383\n",
            "Chi-Squared DF                                                    1\n",
            "Conditional Entropy                                               0.3404\n",
            "Cramer V                                                          0.66263\n",
            "Cross Entropy                                                     0.90387\n",
            "F1 Macro                                                          0.81038\n",
            "F1 Micro                                                          0.87065\n",
            "FNR Macro                                                         0.22601\n",
            "FNR Micro                                                         0.12935\n",
            "FPR Macro                                                         0.22601\n",
            "FPR Micro                                                         0.12935\n",
            "Gwet AC1                                                          0.8037\n",
            "Hamming Loss                                                      0.12935\n",
            "Joint Entropy                                                     1.18735\n",
            "KL Divergence                                                     0.05692\n",
            "Kappa                                                             0.62755\n",
            "Kappa 95% CI                                                      (0.57098,0.68412)\n",
            "Kappa No Prevalence                                               0.7413\n",
            "Kappa Standard Error                                              0.02886\n",
            "Kappa Unbiased                                                    0.62076\n",
            "Krippendorff Alpha                                                0.62093\n",
            "Lambda A                                                          0.52769\n",
            "Lambda B                                                          0.2033\n",
            "Mutual Information                                                0.29952\n",
            "NIR                                                               0.72614\n",
            "Overall ACC                                                       0.87065\n",
            "Overall CEN                                                       0.39281\n",
            "Overall J                                                         (1.38979,0.6949)\n",
            "Overall MCC                                                       0.66263\n",
            "Overall MCEN                                                      0.2951\n",
            "Overall RACC                                                      0.65271\n",
            "Overall RACCU                                                     0.65893\n",
            "P-Value                                                           None\n",
            "PPV Macro                                                         0.90064\n",
            "PPV Micro                                                         0.87065\n",
            "Pearson C                                                         0.55237\n",
            "Phi-Squared                                                       0.43908\n",
            "RCI                                                               0.35364\n",
            "RR                                                                560.5\n",
            "Reference Entropy                                                 0.84695\n",
            "Response Entropy                                                  0.63991\n",
            "SOA1(Landis & Koch)                                               Substantial\n",
            "SOA2(Fleiss)                                                      Intermediate to Good\n",
            "SOA3(Altman)                                                      Good\n",
            "SOA4(Cicchetti)                                                   Good\n",
            "SOA5(Cramer)                                                      Strong\n",
            "SOA6(Matthews)                                                    Moderate\n",
            "Scott PI                                                          0.62076\n",
            "Standard Error                                                    0.01002\n",
            "TNR Macro                                                         0.77399\n",
            "TNR Micro                                                         0.87065\n",
            "TPR Macro                                                         0.77399\n",
            "TPR Micro                                                         0.87065\n",
            "Zero-one Loss                                                     145\n",
            "\n",
            "Class Statistics :\n",
            "\n",
            "Classes                                                           0             1             \n",
            "ACC(Accuracy)                                                     0.87065       0.87065       \n",
            "AGF(Adjusted F-score)                                             0.89233       0.73248       \n",
            "AGM(Adjusted geometric mean)                                      0.70442       0.84646       \n",
            "AM(Difference between automatic and manual classification)        125           -125          \n",
            "AUC(Area under the ROC curve)                                     0.77399       0.77399       \n",
            "AUCI(AUC value interpretation)                                    Good          Good          \n",
            "AUPR(Area under the PR curve)                                     0.92197       0.75266       \n",
            "BCD(Bray-Curtis dissimilarity)                                    0.05575       0.05575       \n",
            "BM(Informedness or bookmaker informedness)                        0.54798       0.54798       \n",
            "CEN(Confusion entropy)                                            0.32737       0.62739       \n",
            "DOR(Diagnostic odds ratio)                                        102.43556     102.43556     \n",
            "DP(Discriminant power)                                            1.10842       1.10842       \n",
            "DPI(Discriminant power interpretation)                            Limited       Limited       \n",
            "ERR(Error rate)                                                   0.12935       0.12935       \n",
            "F0.5(F0.5 score)                                                  0.87965       0.83092       \n",
            "F1(F1 score - harmonic mean of precision and sensitivity)         0.91728       0.70348       \n",
            "F2(F2 score)                                                      0.95828       0.60993       \n",
            "FDR(False discovery rate)                                         0.14377       0.05495       \n",
            "FN(False negative/miss/type 2 error)                              10            135           \n",
            "FNR(Miss rate or false negative rate)                             0.01229       0.43974       \n",
            "FOR(False omission rate)                                          0.05495       0.14377       \n",
            "FP(False positive/type 1 error/false alarm)                       135           10            \n",
            "FPR(Fall-out or false positive rate)                              0.43974       0.01229       \n",
            "G(G-measure geometric mean of precision and sensitivity)          0.91963       0.72765       \n",
            "GI(Gini index)                                                    0.54798       0.54798       \n",
            "GM(G-mean geometric mean of specificity and sensitivity)          0.74389       0.74389       \n",
            "IBA(Index of balanced accuracy)                                   0.78992       0.31683       \n",
            "ICSI(Individual classification success index)                     0.84395       0.50532       \n",
            "IS(Information score)                                             0.23776       1.78695       \n",
            "J(Jaccard index)                                                  0.84721       0.54259       \n",
            "LS(Lift score)                                                    1.17916       3.45084       \n",
            "MCC(Matthews correlation coefficient)                             0.66263       0.66263       \n",
            "MCCI(Matthews correlation coefficient interpretation)             Moderate      Moderate      \n",
            "MCEN(Modified confusion entropy)                                  0.46944       0.68177       \n",
            "MK(Markedness)                                                    0.80128       0.80128       \n",
            "N(Condition negative)                                             307           814           \n",
            "NLR(Negative likelihood ratio)                                    0.02193       0.44521       \n",
            "NLRI(Negative likelihood ratio interpretation)                    Good          Poor          \n",
            "NPV(Negative predictive value)                                    0.94505       0.85623       \n",
            "OC(Overlap coefficient)                                           0.98771       0.94505       \n",
            "OOC(Otsuka-Ochiai coefficient)                                    0.91963       0.72765       \n",
            "OP(Optimized precision)                                           0.59451       0.59451       \n",
            "P(Condition positive or support)                                  814           307           \n",
            "PLR(Positive likelihood ratio)                                    2.24614       45.60521      \n",
            "PLRI(Positive likelihood ratio interpretation)                    Poor          Good          \n",
            "POP(Population)                                                   1121          1121          \n",
            "PPV(Precision or positive predictive value)                       0.85623       0.94505       \n",
            "PRE(Prevalence)                                                   0.72614       0.27386       \n",
            "Q(Yule Q - coefficient of colligation)                            0.98066       0.98066       \n",
            "QI(Yule Q interpretation)                                         Strong        Strong        \n",
            "RACC(Random accuracy)                                             0.60825       0.04446       \n",
            "RACCU(Random accuracy unbiased)                                   0.61135       0.04757       \n",
            "TN(True negative/correct rejection)                               172           804           \n",
            "TNR(Specificity or true negative rate)                            0.56026       0.98771       \n",
            "TON(Test outcome negative)                                        182           939           \n",
            "TOP(Test outcome positive)                                        939           182           \n",
            "TP(True positive/hit)                                             804           172           \n",
            "TPR(Sensitivity, recall, hit rate, or true positive rate)         0.98771       0.56026       \n",
            "Y(Youden index)                                                   0.54798       0.54798       \n",
            "dInd(Distance index)                                              0.43991       0.43991       \n",
            "sInd(Similarity index)                                            0.68894       0.68894       \n",
            "\n"
          ],
          "name": "stdout"
        },
        {
          "output_type": "stream",
          "text": [
            "/usr/local/lib/python3.6/dist-packages/sklearn/svm/_base.py:947: ConvergenceWarning: Liblinear failed to converge, increase the number of iterations.\n",
            "  \"the number of iterations.\", ConvergenceWarning)\n"
          ],
          "name": "stderr"
        }
      ]
    },
    {
      "cell_type": "code",
      "metadata": {
        "id": "RiYnMWo4jc_I",
        "colab_type": "code",
        "colab": {
          "base_uri": "https://localhost:8080/",
          "height": 1000
        },
        "outputId": "b4b7b7c8-7b4a-4582-e09c-7c53368f7185"
      },
      "source": [
        "model = RandomForestClassifier(bootstrap=True, ccp_alpha=0.0, class_weight=None,\n",
        "                       criterion='gini', max_depth=30, max_features='auto',\n",
        "                       max_leaf_nodes=None, max_samples=None,\n",
        "                       min_impurity_decrease=0.0, min_impurity_split=None,\n",
        "                       min_samples_leaf=1, min_samples_split=2,\n",
        "                       min_weight_fraction_leaf=0.0, n_estimators=300,\n",
        "                       n_jobs=None, oob_score=False, random_state=1, verbose=0,\n",
        "                       warm_start=False)\n",
        "\n",
        "model.fit(X_train, y_train)\n",
        "cm = ConfusionMatrix(y_test, model.predict(X_test))\n",
        "print(cm)"
      ],
      "execution_count": 70,
      "outputs": [
        {
          "output_type": "stream",
          "text": [
            "Predict   0         1         \n",
            "Actual\n",
            "0         796       18        \n",
            "\n",
            "1         42        265       \n",
            "\n",
            "\n",
            "\n",
            "\n",
            "\n",
            "Overall Statistics : \n",
            "\n",
            "95% CI                                                            (0.9333,0.95965)\n",
            "ACC Macro                                                         0.94648\n",
            "ARI                                                               0.78655\n",
            "AUNP                                                              0.92054\n",
            "AUNU                                                              0.92054\n",
            "Bangdiwala B                                                      0.91525\n",
            "Bennett S                                                         0.89295\n",
            "CBA                                                               0.90654\n",
            "CSI                                                               0.86368\n",
            "Chi-Squared                                                       835.6255\n",
            "Chi-Squared DF                                                    1\n",
            "Conditional Entropy                                               0.2689\n",
            "Cramer V                                                          0.86338\n",
            "Cross Entropy                                                     0.84867\n",
            "F1 Macro                                                          0.93099\n",
            "F1 Micro                                                          0.94648\n",
            "FNR Macro                                                         0.07946\n",
            "FNR Micro                                                         0.05352\n",
            "FPR Macro                                                         0.07946\n",
            "FPR Micro                                                         0.05352\n",
            "Gwet AC1                                                          0.91257\n",
            "Hamming Loss                                                      0.05352\n",
            "Joint Entropy                                                     1.11585\n",
            "KL Divergence                                                     0.00172\n",
            "Kappa                                                             0.86207\n",
            "Kappa 95% CI                                                      (0.82811,0.89602)\n",
            "Kappa No Prevalence                                               0.89295\n",
            "Kappa Standard Error                                              0.01732\n",
            "Kappa Unbiased                                                    0.86199\n",
            "Krippendorff Alpha                                                0.86205\n",
            "Lambda A                                                          0.80456\n",
            "Lambda B                                                          0.78799\n",
            "Mutual Information                                                0.54624\n",
            "NIR                                                               0.72614\n",
            "Overall ACC                                                       0.94648\n",
            "Overall CEN                                                       0.26343\n",
            "Overall J                                                         (1.74529,0.87265)\n",
            "Overall MCC                                                       0.86338\n",
            "Overall MCEN                                                      0.21502\n",
            "Overall RACC                                                      0.61196\n",
            "Overall RACCU                                                     0.61219\n",
            "P-Value                                                           None\n",
            "PPV Macro                                                         0.94314\n",
            "PPV Micro                                                         0.94648\n",
            "Pearson C                                                         0.65351\n",
            "Phi-Squared                                                       0.74543\n",
            "RCI                                                               0.64495\n",
            "RR                                                                560.5\n",
            "Reference Entropy                                                 0.84695\n",
            "Response Entropy                                                  0.81514\n",
            "SOA1(Landis & Koch)                                               Almost Perfect\n",
            "SOA2(Fleiss)                                                      Excellent\n",
            "SOA3(Altman)                                                      Very Good\n",
            "SOA4(Cicchetti)                                                   Excellent\n",
            "SOA5(Cramer)                                                      Very Strong\n",
            "SOA6(Matthews)                                                    Strong\n",
            "Scott PI                                                          0.86199\n",
            "Standard Error                                                    0.00672\n",
            "TNR Macro                                                         0.92054\n",
            "TNR Micro                                                         0.94648\n",
            "TPR Macro                                                         0.92054\n",
            "TPR Micro                                                         0.94648\n",
            "Zero-one Loss                                                     60\n",
            "\n",
            "Class Statistics :\n",
            "\n",
            "Classes                                                           0             1             \n",
            "ACC(Accuracy)                                                     0.94648       0.94648       \n",
            "AGF(Adjusted F-score)                                             0.94612       0.91529       \n",
            "AGM(Adjusted geometric mean)                                      0.90681       0.94363       \n",
            "AM(Difference between automatic and manual classification)        24            -24           \n",
            "AUC(Area under the ROC curve)                                     0.92054       0.92054       \n",
            "AUCI(AUC value interpretation)                                    Excellent     Excellent     \n",
            "AUPR(Area under the PR curve)                                     0.96388       0.89979       \n",
            "BCD(Bray-Curtis dissimilarity)                                    0.0107        0.0107        \n",
            "BM(Informedness or bookmaker informedness)                        0.84108       0.84108       \n",
            "CEN(Confusion entropy)                                            0.20573       0.42498       \n",
            "DOR(Diagnostic odds ratio)                                        279.02116     279.02116     \n",
            "DP(Discriminant power)                                            1.34835       1.34835       \n",
            "DPI(Discriminant power interpretation)                            Limited       Limited       \n",
            "ERR(Error rate)                                                   0.05352       0.05352       \n",
            "F0.5(F0.5 score)                                                  0.95535       0.92078       \n",
            "F1(F1 score - harmonic mean of precision and sensitivity)         0.96368       0.89831       \n",
            "F2(F2 score)                                                      0.97215       0.8769        \n",
            "FDR(False discovery rate)                                         0.05012       0.0636        \n",
            "FN(False negative/miss/type 2 error)                              18            42            \n",
            "FNR(Miss rate or false negative rate)                             0.02211       0.13681       \n",
            "FOR(False omission rate)                                          0.0636        0.05012       \n",
            "FP(False positive/type 1 error/false alarm)                       42            18            \n",
            "FPR(Fall-out or false positive rate)                              0.13681       0.02211       \n",
            "G(G-measure geometric mean of precision and sensitivity)          0.96378       0.89905       \n",
            "GI(Gini index)                                                    0.84108       0.84108       \n",
            "GM(G-mean geometric mean of specificity and sensitivity)          0.91875       0.91875       \n",
            "IBA(Index of balanced accuracy)                                   0.94092       0.74729       \n",
            "ICSI(Individual classification success index)                     0.92777       0.79959       \n",
            "IS(Information score)                                             0.3875        1.77367       \n",
            "J(Jaccard index)                                                  0.92991       0.81538       \n",
            "LS(Lift score)                                                    1.30813       3.41922       \n",
            "MCC(Matthews correlation coefficient)                             0.86338       0.86338       \n",
            "MCCI(Matthews correlation coefficient interpretation)             Strong        Strong        \n",
            "MCEN(Modified confusion entropy)                                  0.33055       0.61268       \n",
            "MK(Markedness)                                                    0.88628       0.88628       \n",
            "N(Condition negative)                                             307           814           \n",
            "NLR(Negative likelihood ratio)                                    0.02562       0.1399        \n",
            "NLRI(Negative likelihood ratio interpretation)                    Good          Fair          \n",
            "NPV(Negative predictive value)                                    0.9364        0.94988       \n",
            "OC(Overlap coefficient)                                           0.97789       0.9364        \n",
            "OOC(Otsuka-Ochiai coefficient)                                    0.96378       0.89905       \n",
            "OP(Optimized precision)                                           0.88418       0.88418       \n",
            "P(Condition positive or support)                                  814           307           \n",
            "PLR(Positive likelihood ratio)                                    7.14789       39.03547      \n",
            "PLRI(Positive likelihood ratio interpretation)                    Fair          Good          \n",
            "POP(Population)                                                   1121          1121          \n",
            "PPV(Precision or positive predictive value)                       0.94988       0.9364        \n",
            "PRE(Prevalence)                                                   0.72614       0.27386       \n",
            "Q(Yule Q - coefficient of colligation)                            0.99286       0.99286       \n",
            "QI(Yule Q interpretation)                                         Strong        Strong        \n",
            "RACC(Random accuracy)                                             0.54282       0.06914       \n",
            "RACCU(Random accuracy unbiased)                                   0.54294       0.06925       \n",
            "TN(True negative/correct rejection)                               265           796           \n",
            "TNR(Specificity or true negative rate)                            0.86319       0.97789       \n",
            "TON(Test outcome negative)                                        283           838           \n",
            "TOP(Test outcome positive)                                        838           283           \n",
            "TP(True positive/hit)                                             796           265           \n",
            "TPR(Sensitivity, recall, hit rate, or true positive rate)         0.97789       0.86319       \n",
            "Y(Youden index)                                                   0.84108       0.84108       \n",
            "dInd(Distance index)                                              0.13858       0.13858       \n",
            "sInd(Similarity index)                                            0.90201       0.90201       \n",
            "\n"
          ],
          "name": "stdout"
        }
      ]
    },
    {
      "cell_type": "markdown",
      "metadata": {
        "id": "0QfUxi5n3Ihx",
        "colab_type": "text"
      },
      "source": [
        "Rekursiivne tunnuste ärajätmine\n",
        "https://scikit-learn.org/stable/auto_examples/feature_selection/plot_rfe_with_cross_validation.html\n"
      ]
    },
    {
      "cell_type": "code",
      "metadata": {
        "id": "8NA4lLoX3XwN",
        "colab_type": "code",
        "colab": {
          "base_uri": "https://localhost:8080/",
          "height": 313
        },
        "outputId": "be7de686-c110-491d-e523-b67dbb5b7b36"
      },
      "source": [
        "\n",
        "from sklearn.model_selection import StratifiedKFold\n",
        "from sklearn.feature_selection import RFECV\n",
        "\n",
        "\n",
        "rf = RandomForestClassifier(bootstrap=True, ccp_alpha=0.0, class_weight=None,\n",
        "                       criterion='gini', max_depth=25, max_features='auto',\n",
        "                       max_leaf_nodes=None, max_samples=None,\n",
        "                       min_impurity_decrease=0.0, min_impurity_split=None,\n",
        "                       min_samples_leaf=1, min_samples_split=2,\n",
        "                       min_weight_fraction_leaf=0.0, n_estimators=500,\n",
        "                       n_jobs=None, oob_score=False, random_state=1, verbose=0,\n",
        "                       warm_start=False)\n",
        "\n",
        "\n",
        "rfecv = RFECV(estimator=rf, step=1, cv=StratifiedKFold(10),\n",
        "              scoring='accuracy')\n",
        "rfecv.fit(X_scaled, y_over)\n",
        "\n",
        "print(\"Optimaalne tunnuste arv: %d\" % rfecv.n_features_)\n",
        "print(rfecv.ranking_)\n",
        "\n",
        "# Plot number of features VS. cross-validation scores\n",
        "plt.figure()\n",
        "plt.xlabel(\"Valitud tunnuste arv\")\n",
        "plt.ylabel(\"Ristvalideerimise õigsus\")\n",
        "plt.plot(range(1, len(rfecv.grid_scores_) + 1), rfecv.grid_scores_)\n",
        "plt.show()"
      ],
      "execution_count": 55,
      "outputs": [
        {
          "output_type": "stream",
          "text": [
            "Optimaalne tunnuste arv: 1\n",
            "[5 2 1 4 3 6]\n"
          ],
          "name": "stdout"
        },
        {
          "output_type": "display_data",
          "data": {
            "image/png": "[encoded data removed]",
            "text/plain": [
              "<Figure size 432x288 with 1 Axes>"
            ]
          },
          "metadata": {
            "tags": [],
            "needs_background": "light"
          }
        }
      ]
    },
    {
      "cell_type": "code",
      "metadata": {
        "id": "BWqBP4e0eOLO",
        "colab_type": "code",
        "colab": {
          "base_uri": "https://localhost:8080/",
          "height": 34
        },
        "outputId": "7093524b-1895-415f-cc53-aca7549c2326"
      },
      "source": [
        "from sklearn.preprocessing import PolynomialFeatures\n",
        "poly = PolynomialFeatures(2)\n",
        "poly = PolynomialFeatures()\n",
        "X_transformed=poly.fit_transform(X_scaled)\n",
        "print(X_transformed.shape)"
      ],
      "execution_count": 71,
      "outputs": [
        {
          "output_type": "stream",
          "text": [
            "(3734, 55)\n"
          ],
          "name": "stdout"
        }
      ]
    },
    {
      "cell_type": "code",
      "metadata": {
        "id": "hIZ-FTCj6X2X",
        "colab_type": "code",
        "colab": {
          "base_uri": "https://localhost:8080/",
          "height": 1000
        },
        "outputId": "fb51ca56-bb2f-4e24-9d67-7161f97d38c6"
      },
      "source": [
        "from sklearn.model_selection import cross_val_score\n",
        "from sklearn.model_selection import KFold\n",
        "crossvalidation = KFold(n_splits=10, shuffle=True, random_state=1)\n",
        "gdmA =gdm.drop('GDM', 1)\n",
        "polyX = pd.DataFrame(X_scaled, columns=gdmA.columns)\n",
        "print(df.describe())\n",
        "lr = LogisticRegression(C=0.0018329807108324356, class_weight=None, dual=False,\n",
        "                   fit_intercept=True, intercept_scaling=1, l1_ratio=None,\n",
        "                   max_iter=100, multi_class='auto', n_jobs=None, penalty='l2',\n",
        "                   random_state=None, solver='liblinear', tol=0.0001, verbose=0,\n",
        "                   warm_start=False)\n",
        "\n",
        "\n",
        "baseline = np.mean(cross_val_score(lr, df, y_over, scoring ='roc_auc', cv=crossvalidation, n_jobs=1))\n",
        "improvements=[baseline]\n",
        "\n",
        "for feature_A in gdmA.columns:\n",
        "    polyX[feature_A+'^2'] = polyX[feature_A]**2\n",
        "    improvements.append(np.mean(cross_val_score(lr, polyX, y_over, scoring='roc_auc', cv=crossvalidation, n_jobs=1)))\n",
        "    for feature_B in gdmA.columns:\n",
        "        if feature_A > feature_B:\n",
        "            polyX[feature_A+'*'+feature_B] = polyX[feature_A] * polyX[feature_B]\n",
        "            improvements.append(np.mean(cross_val_score(lr, polyX, y_over, scoring='roc_auc', cv=crossvalidation, n_jobs=1)))\n",
        "            \n",
        "print (polyX.info())\n",
        "print ('ROC_AUC %.3f' % abs(np.mean(cross_val_score(lr, polyX, y_over, scoring='roc_auc', cv=crossvalidation, n_jobs=1))))"
      ],
      "execution_count": null,
      "outputs": [
        {
          "output_type": "stream",
          "text": [
            "           DM_sugul         Vanus  ...          PCOS  interaction\n",
            "count  5.045000e+03  5.045000e+03  ...  5.045000e+03  5045.000000\n",
            "mean  -8.921176e-16  5.373446e-15  ... -7.194190e-15     0.068542\n",
            "std    1.000099e+00  1.000099e+00  ...  1.000099e+00     1.170256\n",
            "min   -3.770377e-01 -2.947749e+00  ... -1.503083e-01    -9.368407\n",
            "25%   -3.770377e-01 -6.565949e-01  ... -1.503083e-01    -0.068222\n",
            "50%   -3.770377e-01 -8.380642e-02  ... -1.503083e-01     0.041678\n",
            "75%   -3.770377e-01  6.799115e-01  ... -1.503083e-01     0.108818\n",
            "max    2.959869e+00  3.058754e+00  ...  7.911377e+00    20.928318\n",
            "\n",
            "[8 rows x 9 columns]\n",
            "<class 'pandas.core.frame.DataFrame'>\n",
            "RangeIndex: 5045 entries, 0 to 5044\n",
            "Data columns (total 44 columns):\n",
            " #   Column                          Non-Null Count  Dtype  \n",
            "---  ------                          --------------  -----  \n",
            " 0   DM_sugul                        5045 non-null   float64\n",
            " 1   Vanus                           5045 non-null   float64\n",
            " 2   sugu                            5045 non-null   float64\n",
            " 3   KMI                             5045 non-null   float64\n",
            " 4   suur_laps_varem                 5045 non-null   float64\n",
            " 5   paastusuhkur                    5045 non-null   float64\n",
            " 6   polyhydramnion                  5045 non-null   float64\n",
            " 7   PCOS                            5045 non-null   float64\n",
            " 8   DM_sugul^2                      5045 non-null   float64\n",
            " 9   Vanus^2                         5045 non-null   float64\n",
            " 10  Vanus*DM_sugul                  5045 non-null   float64\n",
            " 11  Vanus*KMI                       5045 non-null   float64\n",
            " 12  Vanus*PCOS                      5045 non-null   float64\n",
            " 13  sugu^2                          5045 non-null   float64\n",
            " 14  sugu*DM_sugul                   5045 non-null   float64\n",
            " 15  sugu*Vanus                      5045 non-null   float64\n",
            " 16  sugu*KMI                        5045 non-null   float64\n",
            " 17  sugu*paastusuhkur               5045 non-null   float64\n",
            " 18  sugu*polyhydramnion             5045 non-null   float64\n",
            " 19  sugu*PCOS                       5045 non-null   float64\n",
            " 20  KMI^2                           5045 non-null   float64\n",
            " 21  KMI*DM_sugul                    5045 non-null   float64\n",
            " 22  suur_laps_varem^2               5045 non-null   float64\n",
            " 23  suur_laps_varem*DM_sugul        5045 non-null   float64\n",
            " 24  suur_laps_varem*Vanus           5045 non-null   float64\n",
            " 25  suur_laps_varem*sugu            5045 non-null   float64\n",
            " 26  suur_laps_varem*KMI             5045 non-null   float64\n",
            " 27  suur_laps_varem*paastusuhkur    5045 non-null   float64\n",
            " 28  suur_laps_varem*polyhydramnion  5045 non-null   float64\n",
            " 29  suur_laps_varem*PCOS            5045 non-null   float64\n",
            " 30  paastusuhkur^2                  5045 non-null   float64\n",
            " 31  paastusuhkur*DM_sugul           5045 non-null   float64\n",
            " 32  paastusuhkur*Vanus              5045 non-null   float64\n",
            " 33  paastusuhkur*KMI                5045 non-null   float64\n",
            " 34  paastusuhkur*PCOS               5045 non-null   float64\n",
            " 35  polyhydramnion^2                5045 non-null   float64\n",
            " 36  polyhydramnion*DM_sugul         5045 non-null   float64\n",
            " 37  polyhydramnion*Vanus            5045 non-null   float64\n",
            " 38  polyhydramnion*KMI              5045 non-null   float64\n",
            " 39  polyhydramnion*paastusuhkur     5045 non-null   float64\n",
            " 40  polyhydramnion*PCOS             5045 non-null   float64\n",
            " 41  PCOS^2                          5045 non-null   float64\n",
            " 42  PCOS*DM_sugul                   5045 non-null   float64\n",
            " 43  PCOS*KMI                        5045 non-null   float64\n",
            "dtypes: float64(44)\n",
            "memory usage: 1.7 MB\n",
            "None\n",
            "ROC_AUC 0.922\n"
          ],
          "name": "stdout"
        }
      ]
    }
  ]
}