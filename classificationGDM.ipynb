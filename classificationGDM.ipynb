{
  "nbformat": 4,
  "nbformat_minor": 0,
  "metadata": {
    "colab": {
      "name": "classificationGDM.ipynb",
      "provenance": [],
      "authorship_tag": "ABX9TyMWKECaaDJ0QupEAiMi9Vi1",
      "include_colab_link": true
    },
    "kernelspec": {
      "name": "python3",
      "display_name": "Python 3"
    }
  },
  "cells": [
    {
      "cell_type": "markdown",
      "metadata": {
        "id": "view-in-github",
        "colab_type": "text"
      },
      "source": [
        "<a href=\"https://colab.research.google.com/github/silviapihu/magistritoo/blob/master/classificationGDM.ipynb\" target=\"_parent\"><img src=\"https://colab.research.google.com/assets/colab-badge.svg\" alt=\"Open In Colab\"/></a>"
      ]
    },
    {
      "cell_type": "markdown",
      "metadata": {
        "id": "ncMbpNjqR9OM",
        "colab_type": "text"
      },
      "source": [
        "Erinevate visualiseerimis-, kalibreerimis-, võrdlusmeetodite katsetused\n",
        "https://machinelearningmastery.com/compare-machine-learning-algorithms-python-scikit-learn/\n",
        "https://scikit-learn.org/stable/auto_examples/calibration/plot_compare_calibration.html#sphx-glr-auto-examples-calibration-plot-compare-calibration-py\n",
        "https://stats.stackexchange.com/questions/336404/feature-importance-for-breast-cancer-random-forests-vs-logistic-regression\n",
        "https://www.dummies.com/programming/big-data/data-science/data-science-how-to-create-interactions-between-variables-with-python/\n"
      ]
    },
    {
      "cell_type": "code",
      "metadata": {
        "id": "gOrz7xlF1gAQ",
        "colab_type": "code",
        "colab": {
          "resources": {
            "http://localhost:8080/nbextensions/google.colab/files.js": {
              "data": "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",
              "ok": true,
              "headers": [
                [
                  "content-type",
                  "application/javascript"
                ]
              ],
              "status": 200,
              "status_text": ""
            }
          },
          "base_uri": "https://localhost:8080/",
          "height": 73
        },
        "outputId": "96b307db-0c2f-4b0d-da7e-04fbffe3bf9d"
      },
      "source": [
        "\n",
        "from google.colab import files\n",
        "uploaded = files.upload()"
      ],
      "execution_count": 2,
      "outputs": [
        {
          "output_type": "display_data",
          "data": {
            "text/html": [
              "\n",
              "     <input type=\"file\" id=\"files-8730e81c-118e-4fb8-8e86-4effdf822104\" name=\"files[]\" multiple disabled\n",
              "        style=\"border:none\" />\n",
              "     <output id=\"result-8730e81c-118e-4fb8-8e86-4effdf822104\">\n",
              "      Upload widget is only available when the cell has been executed in the\n",
              "      current browser session. Please rerun this cell to enable.\n",
              "      </output>\n",
              "      <script src=\"/nbextensions/google.colab/files.js\"></script> "
            ],
            "text/plain": [
              "<IPython.core.display.HTML object>"
            ]
          },
          "metadata": {
            "tags": []
          }
        },
        {
          "output_type": "stream",
          "text": [
            "Saving koos.csv to koos.csv\n"
          ],
          "name": "stdout"
        }
      ]
    },
    {
      "cell_type": "code",
      "metadata": {
        "id": "zE0wUchB2u07",
        "colab_type": "code",
        "colab": {}
      },
      "source": [
        "import pandas as pd\n",
        "import numpy as np\n",
        "\n"
      ],
      "execution_count": 3,
      "outputs": []
    },
    {
      "cell_type": "code",
      "metadata": {
        "id": "qI9GImmt2Q4A",
        "colab_type": "code",
        "colab": {}
      },
      "source": [
        "import io\n",
        "koos = pd.read_csv(io.BytesIO(uploaded['koos.csv']))"
      ],
      "execution_count": 4,
      "outputs": []
    },
    {
      "cell_type": "code",
      "metadata": {
        "id": "VSUz8hrnESdh",
        "colab_type": "code",
        "colab": {}
      },
      "source": [
        "gdm = koos[['DM_sugul','Vanus', 'sugu', 'KMI', 'suur_laps_varem', 'paastusuhkur', 'polyhydramnion', 'PCOS', 'GDM']]"
      ],
      "execution_count": 5,
      "outputs": []
    },
    {
      "cell_type": "code",
      "metadata": {
        "id": "b7ZDVazMdO-J",
        "colab_type": "code",
        "colab": {
          "base_uri": "https://localhost:8080/",
          "height": 284
        },
        "outputId": "e72109c7-d9b1-4b89-fb6c-afc71da191ec"
      },
      "source": [
        "gdm=gdm.dropna()\n",
        "gdm.describe()"
      ],
      "execution_count": 6,
      "outputs": [
        {
          "output_type": "execute_result",
          "data": {
            "text/html": [
              "<div>\n",
              "<style scoped>\n",
              "    .dataframe tbody tr th:only-of-type {\n",
              "        vertical-align: middle;\n",
              "    }\n",
              "\n",
              "    .dataframe tbody tr th {\n",
              "        vertical-align: top;\n",
              "    }\n",
              "\n",
              "    .dataframe thead th {\n",
              "        text-align: right;\n",
              "    }\n",
              "</style>\n",
              "<table border=\"1\" class=\"dataframe\">\n",
              "  <thead>\n",
              "    <tr style=\"text-align: right;\">\n",
              "      <th></th>\n",
              "      <th>DM_sugul</th>\n",
              "      <th>Vanus</th>\n",
              "      <th>sugu</th>\n",
              "      <th>KMI</th>\n",
              "      <th>suur_laps_varem</th>\n",
              "      <th>paastusuhkur</th>\n",
              "      <th>polyhydramnion</th>\n",
              "      <th>PCOS</th>\n",
              "      <th>GDM</th>\n",
              "    </tr>\n",
              "  </thead>\n",
              "  <tbody>\n",
              "    <tr>\n",
              "      <th>count</th>\n",
              "      <td>4941.000000</td>\n",
              "      <td>4941.000000</td>\n",
              "      <td>4941.000000</td>\n",
              "      <td>4941.000000</td>\n",
              "      <td>4941.000000</td>\n",
              "      <td>4941.000000</td>\n",
              "      <td>4941.000000</td>\n",
              "      <td>4941.000000</td>\n",
              "      <td>4941.000000</td>\n",
              "    </tr>\n",
              "    <tr>\n",
              "      <th>mean</th>\n",
              "      <td>0.093908</td>\n",
              "      <td>29.302545</td>\n",
              "      <td>1.481886</td>\n",
              "      <td>23.564588</td>\n",
              "      <td>0.021656</td>\n",
              "      <td>0.154422</td>\n",
              "      <td>0.019834</td>\n",
              "      <td>0.011739</td>\n",
              "      <td>0.087027</td>\n",
              "    </tr>\n",
              "    <tr>\n",
              "      <th>std</th>\n",
              "      <td>0.291730</td>\n",
              "      <td>5.323188</td>\n",
              "      <td>0.499722</td>\n",
              "      <td>4.547652</td>\n",
              "      <td>0.145571</td>\n",
              "      <td>0.361390</td>\n",
              "      <td>0.139444</td>\n",
              "      <td>0.107718</td>\n",
              "      <td>0.281903</td>\n",
              "    </tr>\n",
              "    <tr>\n",
              "      <th>min</th>\n",
              "      <td>0.000000</td>\n",
              "      <td>14.000000</td>\n",
              "      <td>1.000000</td>\n",
              "      <td>14.500000</td>\n",
              "      <td>0.000000</td>\n",
              "      <td>0.000000</td>\n",
              "      <td>0.000000</td>\n",
              "      <td>0.000000</td>\n",
              "      <td>0.000000</td>\n",
              "    </tr>\n",
              "    <tr>\n",
              "      <th>25%</th>\n",
              "      <td>0.000000</td>\n",
              "      <td>25.963039</td>\n",
              "      <td>1.000000</td>\n",
              "      <td>20.478267</td>\n",
              "      <td>0.000000</td>\n",
              "      <td>0.000000</td>\n",
              "      <td>0.000000</td>\n",
              "      <td>0.000000</td>\n",
              "      <td>0.000000</td>\n",
              "    </tr>\n",
              "    <tr>\n",
              "      <th>50%</th>\n",
              "      <td>0.000000</td>\n",
              "      <td>29.000000</td>\n",
              "      <td>1.000000</td>\n",
              "      <td>22.500000</td>\n",
              "      <td>0.000000</td>\n",
              "      <td>0.000000</td>\n",
              "      <td>0.000000</td>\n",
              "      <td>0.000000</td>\n",
              "      <td>0.000000</td>\n",
              "    </tr>\n",
              "    <tr>\n",
              "      <th>75%</th>\n",
              "      <td>0.000000</td>\n",
              "      <td>33.000000</td>\n",
              "      <td>2.000000</td>\n",
              "      <td>25.559329</td>\n",
              "      <td>0.000000</td>\n",
              "      <td>0.000000</td>\n",
              "      <td>0.000000</td>\n",
              "      <td>0.000000</td>\n",
              "      <td>0.000000</td>\n",
              "    </tr>\n",
              "    <tr>\n",
              "      <th>max</th>\n",
              "      <td>1.000000</td>\n",
              "      <td>47.000000</td>\n",
              "      <td>2.000000</td>\n",
              "      <td>53.200000</td>\n",
              "      <td>1.000000</td>\n",
              "      <td>1.000000</td>\n",
              "      <td>1.000000</td>\n",
              "      <td>1.000000</td>\n",
              "      <td>1.000000</td>\n",
              "    </tr>\n",
              "  </tbody>\n",
              "</table>\n",
              "</div>"
            ],
            "text/plain": [
              "          DM_sugul        Vanus  ...         PCOS          GDM\n",
              "count  4941.000000  4941.000000  ...  4941.000000  4941.000000\n",
              "mean      0.093908    29.302545  ...     0.011739     0.087027\n",
              "std       0.291730     5.323188  ...     0.107718     0.281903\n",
              "min       0.000000    14.000000  ...     0.000000     0.000000\n",
              "25%       0.000000    25.963039  ...     0.000000     0.000000\n",
              "50%       0.000000    29.000000  ...     0.000000     0.000000\n",
              "75%       0.000000    33.000000  ...     0.000000     0.000000\n",
              "max       1.000000    47.000000  ...     1.000000     1.000000\n",
              "\n",
              "[8 rows x 9 columns]"
            ]
          },
          "metadata": {
            "tags": []
          },
          "execution_count": 6
        }
      ]
    },
    {
      "cell_type": "markdown",
      "metadata": {
        "id": "lqk96QSPGpbn",
        "colab_type": "text"
      },
      "source": [
        "tasakaalustamata andmed. kasutan positiivse ms väärtusega ridade paljundamist ja negatiivsete vähendamist"
      ]
    },
    {
      "cell_type": "code",
      "metadata": {
        "colab_type": "code",
        "id": "AYPp6RdGjuhx",
        "colab": {
          "base_uri": "https://localhost:8080/",
          "height": 272
        },
        "outputId": "f7bb2379-ceec-41e4-fa78-41231fc754f3"
      },
      "source": [
        "from collections import Counter\n",
        "from imblearn.combine import SMOTEENN\n",
        "y = gdm.GDM\n",
        "X = gdm.drop('GDM', 1)\n",
        "# summarize class distribution\n",
        "print(Counter(y))\n",
        "# define sampling strategy\n",
        "sample = SMOTEENN(sampling_strategy=0.5, random_state=1)\n",
        "# fit and apply the transform\n",
        "X_over, y_over = sample.fit_resample(X, y)\n",
        "# summarize class distribution\n",
        "print(Counter(y_over))"
      ],
      "execution_count": 7,
      "outputs": [
        {
          "output_type": "stream",
          "text": [
            "/usr/local/lib/python3.6/dist-packages/sklearn/externals/six.py:31: FutureWarning: The module is deprecated in version 0.21 and will be removed in version 0.23 since we've dropped support for Python 2.7. Please rely on the official version of six (https://pypi.org/project/six/).\n",
            "  \"(https://pypi.org/project/six/).\", FutureWarning)\n",
            "/usr/local/lib/python3.6/dist-packages/sklearn/utils/deprecation.py:144: FutureWarning: The sklearn.neighbors.base module is  deprecated in version 0.22 and will be removed in version 0.24. The corresponding classes / functions should instead be imported from sklearn.neighbors. Anything that cannot be imported from sklearn.neighbors is now part of the private API.\n",
            "  warnings.warn(message, FutureWarning)\n",
            "/usr/local/lib/python3.6/dist-packages/sklearn/utils/deprecation.py:87: FutureWarning: Function safe_indexing is deprecated; safe_indexing is deprecated in version 0.22 and will be removed in version 0.24.\n",
            "  warnings.warn(msg, category=FutureWarning)\n"
          ],
          "name": "stderr"
        },
        {
          "output_type": "stream",
          "text": [
            "Counter({0: 4511, 1: 430})\n",
            "Counter({0: 3539, 1: 1546})\n"
          ],
          "name": "stdout"
        },
        {
          "output_type": "stream",
          "text": [
            "/usr/local/lib/python3.6/dist-packages/sklearn/utils/deprecation.py:87: FutureWarning: Function safe_indexing is deprecated; safe_indexing is deprecated in version 0.22 and will be removed in version 0.24.\n",
            "  warnings.warn(msg, category=FutureWarning)\n",
            "/usr/local/lib/python3.6/dist-packages/sklearn/utils/deprecation.py:87: FutureWarning: Function safe_indexing is deprecated; safe_indexing is deprecated in version 0.22 and will be removed in version 0.24.\n",
            "  warnings.warn(msg, category=FutureWarning)\n",
            "/usr/local/lib/python3.6/dist-packages/sklearn/utils/deprecation.py:87: FutureWarning: Function safe_indexing is deprecated; safe_indexing is deprecated in version 0.22 and will be removed in version 0.24.\n",
            "  warnings.warn(msg, category=FutureWarning)\n"
          ],
          "name": "stderr"
        }
      ]
    },
    {
      "cell_type": "code",
      "metadata": {
        "id": "2lbOzSHjoycv",
        "colab_type": "code",
        "colab": {}
      },
      "source": [
        "from sklearn import preprocessing\n",
        "X_scaled = preprocessing.scale(X_over)"
      ],
      "execution_count": 8,
      "outputs": []
    },
    {
      "cell_type": "code",
      "metadata": {
        "id": "M4C8M4rlkGOe",
        "colab_type": "code",
        "colab": {
          "base_uri": "https://localhost:8080/",
          "height": 34
        },
        "outputId": "47dcc487-a2ee-418e-8b1e-8e22959e925a"
      },
      "source": [
        "X_scaled.shape"
      ],
      "execution_count": 9,
      "outputs": [
        {
          "output_type": "execute_result",
          "data": {
            "text/plain": [
              "(5085, 8)"
            ]
          },
          "metadata": {
            "tags": []
          },
          "execution_count": 9
        }
      ]
    },
    {
      "cell_type": "markdown",
      "metadata": {
        "id": "cTNhS9bEA2Th",
        "colab_type": "text"
      },
      "source": [
        "Mudelite võrdlus"
      ]
    },
    {
      "cell_type": "code",
      "metadata": {
        "id": "FAYhBndE5h53",
        "colab_type": "code",
        "colab": {
          "base_uri": "https://localhost:8080/",
          "height": 667
        },
        "outputId": "223e7596-4b9b-4beb-b875-08f44560a962"
      },
      "source": [
        "import matplotlib.pyplot as plt\n",
        "from sklearn import model_selection\n",
        "from sklearn.naive_bayes import GaussianNB\n",
        "from sklearn.linear_model import LogisticRegression\n",
        "from sklearn.discriminant_analysis import LinearDiscriminantAnalysis\n",
        "from sklearn.neighbors import KNeighborsClassifier\n",
        "from sklearn.tree import DecisionTreeClassifier\n",
        "from sklearn.svm import SVC\n",
        "from sklearn.ensemble import RandomForestClassifier\n",
        "seed = 1\n",
        "# prepare models\n",
        "models = []\n",
        "models.append(('LR', LogisticRegression()))\n",
        "models.append(('LDA', LinearDiscriminantAnalysis()))\n",
        "models.append(('KNN', KNeighborsClassifier()))\n",
        "models.append(('DT', DecisionTreeClassifier()))\n",
        "models.append(('GNB', GaussianNB()))\n",
        "models.append(('SVM', SVC()))\n",
        "models.append(('RF', RandomForestClassifier()))\n",
        "# evaluate each model in turn\n",
        "results = []\n",
        "names = []\n",
        "scoring = 'accuracy'\n",
        "for name, model in models:\n",
        "\tkfold = model_selection.KFold(n_splits=10, random_state=seed)\n",
        "\tcv_results = model_selection.cross_val_score(model, X_scaled, y_over, cv=kfold, scoring=scoring)\n",
        "\tresults.append(cv_results)\n",
        "\tnames.append(name)\n",
        "\tmsg = \"%s: %f (%f)\" % (name, cv_results.mean(), cv_results.std())\n",
        "\tprint(msg)\n",
        "# boxplot algorithm comparison\n",
        "fig = plt.figure()\n",
        "fig.suptitle('Algoritmide võrdlus')\n",
        "ax = fig.add_subplot(111)\n",
        "plt.boxplot(results)\n",
        "ax.set_xticklabels(names)\n",
        "\n",
        "plt.savefig('mudelid.png')\n",
        "files.download('mudelid.png')\n",
        "plt.show()"
      ],
      "execution_count": 10,
      "outputs": [
        {
          "output_type": "stream",
          "text": [
            "/usr/local/lib/python3.6/dist-packages/sklearn/model_selection/_split.py:296: FutureWarning: Setting a random_state has no effect since shuffle is False. This will raise an error in 0.24. You should leave random_state to its default (None), or set shuffle=True.\n",
            "  FutureWarning\n",
            "/usr/local/lib/python3.6/dist-packages/sklearn/model_selection/_split.py:296: FutureWarning: Setting a random_state has no effect since shuffle is False. This will raise an error in 0.24. You should leave random_state to its default (None), or set shuffle=True.\n",
            "  FutureWarning\n"
          ],
          "name": "stderr"
        },
        {
          "output_type": "stream",
          "text": [
            "LR: 0.814239 (0.142908)\n",
            "LDA: 0.828610 (0.129226)\n"
          ],
          "name": "stdout"
        },
        {
          "output_type": "stream",
          "text": [
            "/usr/local/lib/python3.6/dist-packages/sklearn/model_selection/_split.py:296: FutureWarning: Setting a random_state has no effect since shuffle is False. This will raise an error in 0.24. You should leave random_state to its default (None), or set shuffle=True.\n",
            "  FutureWarning\n"
          ],
          "name": "stderr"
        },
        {
          "output_type": "stream",
          "text": [
            "KNN: 0.822963 (0.126107)\n",
            "DT: 0.610059 (0.338596)\n",
            "GNB: 0.800514 (0.105006)\n"
          ],
          "name": "stdout"
        },
        {
          "output_type": "stream",
          "text": [
            "/usr/local/lib/python3.6/dist-packages/sklearn/model_selection/_split.py:296: FutureWarning: Setting a random_state has no effect since shuffle is False. This will raise an error in 0.24. You should leave random_state to its default (None), or set shuffle=True.\n",
            "  FutureWarning\n",
            "/usr/local/lib/python3.6/dist-packages/sklearn/model_selection/_split.py:296: FutureWarning: Setting a random_state has no effect since shuffle is False. This will raise an error in 0.24. You should leave random_state to its default (None), or set shuffle=True.\n",
            "  FutureWarning\n",
            "/usr/local/lib/python3.6/dist-packages/sklearn/model_selection/_split.py:296: FutureWarning: Setting a random_state has no effect since shuffle is False. This will raise an error in 0.24. You should leave random_state to its default (None), or set shuffle=True.\n",
            "  FutureWarning\n"
          ],
          "name": "stderr"
        },
        {
          "output_type": "stream",
          "text": [
            "SVM: 0.859300 (0.118749)\n"
          ],
          "name": "stdout"
        },
        {
          "output_type": "stream",
          "text": [
            "/usr/local/lib/python3.6/dist-packages/sklearn/model_selection/_split.py:296: FutureWarning: Setting a random_state has no effect since shuffle is False. This will raise an error in 0.24. You should leave random_state to its default (None), or set shuffle=True.\n",
            "  FutureWarning\n"
          ],
          "name": "stderr"
        },
        {
          "output_type": "stream",
          "text": [
            "RF: 0.731730 (0.290795)\n"
          ],
          "name": "stdout"
        },
        {
          "output_type": "display_data",
          "data": {
            "application/javascript": [
              "\n",
              "    async function download(id, filename, size) {\n",
              "      if (!google.colab.kernel.accessAllowed) {\n",
              "        return;\n",
              "      }\n",
              "      const div = document.createElement('div');\n",
              "      const label = document.createElement('label');\n",
              "      label.textContent = `Downloading \"${filename}\": `;\n",
              "      div.appendChild(label);\n",
              "      const progress = document.createElement('progress');\n",
              "      progress.max = size;\n",
              "      div.appendChild(progress);\n",
              "      document.body.appendChild(div);\n",
              "\n",
              "      const buffers = [];\n",
              "      let downloaded = 0;\n",
              "\n",
              "      const channel = await google.colab.kernel.comms.open(id);\n",
              "      // Send a message to notify the kernel that we're ready.\n",
              "      channel.send({})\n",
              "\n",
              "      for await (const message of channel.messages) {\n",
              "        // Send a message to notify the kernel that we're ready.\n",
              "        channel.send({})\n",
              "        if (message.buffers) {\n",
              "          for (const buffer of message.buffers) {\n",
              "            buffers.push(buffer);\n",
              "            downloaded += buffer.byteLength;\n",
              "            progress.value = downloaded;\n",
              "          }\n",
              "        }\n",
              "      }\n",
              "      const blob = new Blob(buffers, {type: 'application/binary'});\n",
              "      const a = document.createElement('a');\n",
              "      a.href = window.URL.createObjectURL(blob);\n",
              "      a.download = filename;\n",
              "      div.appendChild(a);\n",
              "      a.click();\n",
              "      div.remove();\n",
              "    }\n",
              "  "
            ],
            "text/plain": [
              "<IPython.core.display.Javascript object>"
            ]
          },
          "metadata": {
            "tags": []
          }
        },
        {
          "output_type": "display_data",
          "data": {
            "application/javascript": [
              "download(\"download_1be61754-e028-4ac5-8444-4a96dd4191fd\", \"mudelid.png\", 8401)"
            ],
            "text/plain": [
              "<IPython.core.display.Javascript object>"
            ]
          },
          "metadata": {
            "tags": []
          }
        },
        {
          "output_type": "display_data",
          "data": {
            "image/png": "[encoded data removed]",
            "text/plain": [
              "<Figure size 432x288 with 1 Axes>"
            ]
          },
          "metadata": {
            "tags": [],
            "needs_background": "light"
          }
        }
      ]
    },
    {
      "cell_type": "code",
      "metadata": {
        "id": "EF_RKVT8GEVx",
        "colab_type": "code",
        "colab": {
          "base_uri": "https://localhost:8080/",
          "height": 729
        },
        "outputId": "7e84179e-82fc-4830-900d-cc6ff13ae5b8"
      },
      "source": [
        "\n",
        "from sklearn.model_selection import train_test_split\n",
        "X_train, X_test, y_train, y_test = train_test_split(X_scaled, y_over,test_size=0.3, random_state=1)\n",
        "from sklearn.calibration import calibration_curve\n",
        "import matplotlib.pyplot as plt\n",
        "\n",
        "# Create classifiers\n",
        "lr = LogisticRegression()\n",
        "lda = LinearDiscriminantAnalysis()\n",
        "gnb = GaussianNB()\n",
        "svc = SVC()\n",
        "rfc = RandomForestClassifier()\n",
        "\n",
        "\n",
        "# #############################################################################\n",
        "# Plot calibration plots\n",
        "\n",
        "plt.figure(figsize=(10, 10))\n",
        "ax1 = plt.subplot2grid((3, 1), (0, 0), rowspan=2)\n",
        "ax2 = plt.subplot2grid((3, 1), (2, 0))\n",
        "\n",
        "ax1.plot([0, 1], [0, 1], \"k:\", label=\"Ideaalne kalibreering\")\n",
        "for clf, name in [(lr, 'LR'),\n",
        "                  (lda, 'LDA'),\n",
        "                  (gnb, 'GNB'),\n",
        "                  (svc, 'SVM'),\n",
        "                  (rfc, 'RF')]:\n",
        "    clf.fit(X_train, y_train)\n",
        "    if hasattr(clf, \"predict_proba\"):\n",
        "        prob_pos = clf.predict_proba(X_test)[:, 1]\n",
        "    else:  # use decision function\n",
        "        prob_pos = clf.decision_function(X_test)\n",
        "        prob_pos = \\\n",
        "            (prob_pos - prob_pos.min()) / (prob_pos.max() - prob_pos.min())\n",
        "    fraction_of_positives, mean_predicted_value = \\\n",
        "        calibration_curve(y_test, prob_pos, n_bins=10)\n",
        "\n",
        "    ax1.plot(mean_predicted_value, fraction_of_positives, \"s-\",\n",
        "             label=\"%s\" % (name, ))\n",
        "\n",
        "    ax2.hist(prob_pos, range=(0, 1), bins=10, label=name,\n",
        "             histtype=\"step\", lw=2)\n",
        "\n",
        "ax1.set_ylabel(\"Positiivsete osakaal\")\n",
        "ax1.set_ylim([-0.05, 1.05])\n",
        "ax1.legend(loc=\"lower right\")\n",
        "ax1.set_title('Kalibreeritud usaldusväärsuse kõverad')\n",
        "\n",
        "ax2.set_xlabel(\"Keskmine ennustatud väärtus\")\n",
        "ax2.set_ylabel(\"Arv\")\n",
        "ax2.legend(loc=\"upper center\", ncol=2)\n",
        "\n",
        "plt.tight_layout()\n",
        "plt.show()\n"
      ],
      "execution_count": 11,
      "outputs": [
        {
          "output_type": "display_data",
          "data": {
            "image/png": "[encoded data removed]",
            "text/plain": [
              "<Figure size 720x720 with 2 Axes>"
            ]
          },
          "metadata": {
            "tags": [],
            "needs_background": "light"
          }
        }
      ]
    },
    {
      "cell_type": "code",
      "metadata": {
        "id": "dXlAszSla1es",
        "colab_type": "code",
        "colab": {
          "base_uri": "https://localhost:8080/",
          "height": 252
        },
        "outputId": "dbf453bb-c8f0-4776-8d86-4483dbc04986"
      },
      "source": [
        "from sklearn.model_selection import GridSearchCV\n",
        "from sklearn.metrics import *\n",
        "logi=LogisticRegression()\n",
        "params = {'penalty' : ['l1', 'l2'],\n",
        "    'C' : np.logspace(-4, 4, 20),\n",
        "    'solver' : ['newton-cg', 'lbfgs', 'liblinear', 'sag', 'saga']}\n",
        "grid_lr = GridSearchCV(estimator = logi,\n",
        "                        param_grid = params,\n",
        "                        scoring = 'roc_auc', \n",
        "                        cv = 5, \n",
        "                        verbose = 1,\n",
        "                        n_jobs = -1)\n",
        "\n",
        "grid_lr.fit(X_train, y_train)\n",
        "print(grid_lr.score(X_test, y_test))\n",
        "print(grid_lr.best_estimator_)"
      ],
      "execution_count": 21,
      "outputs": [
        {
          "output_type": "stream",
          "text": [
            "Fitting 5 folds for each of 200 candidates, totalling 1000 fits\n"
          ],
          "name": "stdout"
        },
        {
          "output_type": "stream",
          "text": [
            "[Parallel(n_jobs=-1)]: Using backend LokyBackend with 2 concurrent workers.\n",
            "[Parallel(n_jobs=-1)]: Done 216 tasks      | elapsed:    8.2s\n",
            "[Parallel(n_jobs=-1)]: Done 554 tasks      | elapsed:   42.8s\n",
            "[Parallel(n_jobs=-1)]: Done 851 tasks      | elapsed:  3.8min\n",
            "[Parallel(n_jobs=-1)]: Done 1000 out of 1000 | elapsed:  5.5min finished\n"
          ],
          "name": "stderr"
        },
        {
          "output_type": "stream",
          "text": [
            "0.9655021807571684\n",
            "LogisticRegression(C=11.288378916846883, class_weight=None, dual=False,\n",
            "                   fit_intercept=True, intercept_scaling=1, l1_ratio=None,\n",
            "                   max_iter=100, multi_class='auto', n_jobs=None, penalty='l1',\n",
            "                   random_state=None, solver='liblinear', tol=0.0001, verbose=0,\n",
            "                   warm_start=False)\n"
          ],
          "name": "stdout"
        },
        {
          "output_type": "stream",
          "text": [
            "/usr/local/lib/python3.6/dist-packages/sklearn/svm/_base.py:947: ConvergenceWarning: Liblinear failed to converge, increase the number of iterations.\n",
            "  \"the number of iterations.\", ConvergenceWarning)\n"
          ],
          "name": "stderr"
        }
      ]
    },
    {
      "cell_type": "markdown",
      "metadata": {
        "id": "pzX1C0b0DdCb",
        "colab_type": "text"
      },
      "source": [
        "Võrkotsing"
      ]
    },
    {
      "cell_type": "code",
      "metadata": {
        "id": "rTDRTxGKxsHr",
        "colab_type": "code",
        "colab": {
          "base_uri": "https://localhost:8080/",
          "height": 319
        },
        "outputId": "73cbd5bd-d4f5-4bd2-dde5-315dea608721"
      },
      "source": [
        "from sklearn.model_selection import GridSearchCV\n",
        "from sklearn.metrics import *\n",
        "forest = RandomForestClassifier(random_state = 1)\n",
        "params = { 'n_estimators' : [100, 300, 500, 800, 1200],\n",
        "'max_depth' : [5, 8, 15, 25, 30],\n",
        "'min_samples_split' : [2, 5, 10, 20],\n",
        "'min_samples_leaf' : [1, 2, 4, 7]}\n",
        "grid_rf=GridSearchCV(estimator = forest,\n",
        "                        param_grid = params,\n",
        "                        scoring = 'roc_auc', \n",
        "                        cv = 5, \n",
        "                        verbose = 1,\n",
        "                        n_jobs = -1)\n",
        "\n",
        "grid_rf.fit(X_train, y_train)\n",
        "print(grid_rf.score(X_test, y_test))\n",
        "print(grid_rf.best_estimator_)"
      ],
      "execution_count": null,
      "outputs": [
        {
          "output_type": "stream",
          "text": [
            "Fitting 5 folds for each of 400 candidates, totalling 2000 fits\n"
          ],
          "name": "stdout"
        },
        {
          "output_type": "stream",
          "text": [
            "[Parallel(n_jobs=-1)]: Using backend LokyBackend with 2 concurrent workers.\n",
            "[Parallel(n_jobs=-1)]: Done  46 tasks      | elapsed:   42.7s\n",
            "[Parallel(n_jobs=-1)]: Done 196 tasks      | elapsed:  3.2min\n",
            "[Parallel(n_jobs=-1)]: Done 446 tasks      | elapsed:  7.4min\n",
            "[Parallel(n_jobs=-1)]: Done 796 tasks      | elapsed: 13.8min\n",
            "[Parallel(n_jobs=-1)]: Done 1246 tasks      | elapsed: 22.9min\n",
            "[Parallel(n_jobs=-1)]: Done 1796 tasks      | elapsed: 34.0min\n",
            "[Parallel(n_jobs=-1)]: Done 2000 out of 2000 | elapsed: 37.9min finished\n"
          ],
          "name": "stderr"
        },
        {
          "output_type": "stream",
          "text": [
            "0.9917521478992141\n",
            "RandomForestClassifier(bootstrap=True, ccp_alpha=0.0, class_weight=None,\n",
            "                       criterion='gini', max_depth=25, max_features='auto',\n",
            "                       max_leaf_nodes=None, max_samples=None,\n",
            "                       min_impurity_decrease=0.0, min_impurity_split=None,\n",
            "                       min_samples_leaf=1, min_samples_split=2,\n",
            "                       min_weight_fraction_leaf=0.0, n_estimators=500,\n",
            "                       n_jobs=None, oob_score=False, random_state=1, verbose=0,\n",
            "                       warm_start=False)\n"
          ],
          "name": "stdout"
        }
      ]
    },
    {
      "cell_type": "markdown",
      "metadata": {
        "id": "lCsJd-o-Dgt8",
        "colab_type": "text"
      },
      "source": [
        "Tunnuste olulisus"
      ]
    },
    {
      "cell_type": "code",
      "metadata": {
        "id": "LZGnhZUGQmHq",
        "colab_type": "code",
        "colab": {
          "base_uri": "https://localhost:8080/",
          "height": 559
        },
        "outputId": "3290393f-cc91-4952-d89a-24a91c7b6d21"
      },
      "source": [
        "\n",
        "clf = LinearDiscriminantAnalysis()\n",
        "clf.fit(X_scaled, y_over)\n",
        "coefs = np.abs(clf.coef_[0])\n",
        "indices = np.argsort(coefs)[::-1]\n",
        "\n",
        "plt.figure()\n",
        "plt.title(\"Tunnuste olulisus (LDA)\")\n",
        "plt.bar(range(8), coefs[indices[:8]],\n",
        "       color=\"r\", align=\"center\")\n",
        "plt.xticks(range(8), gdm.columns[indices[:8]], rotation=45, ha='right')\n",
        "plt.subplots_adjust(bottom=0.3)\n",
        "\n",
        "clf = RandomForestClassifier(bootstrap=True, ccp_alpha=0.0, class_weight=None,\n",
        "                       criterion='gini', max_depth=25, max_features='auto',\n",
        "                       max_leaf_nodes=None, max_samples=None,\n",
        "                       min_impurity_decrease=0.0, min_impurity_split=None,\n",
        "                       min_samples_leaf=1, min_samples_split=2,\n",
        "                       min_weight_fraction_leaf=0.0, n_estimators=500,\n",
        "                       n_jobs=None, oob_score=False, random_state=1, verbose=0,\n",
        "                       warm_start=False)\n",
        "clf.fit(X_scaled, y_over)\n",
        "coefs = clf.feature_importances_\n",
        "indices = np.argsort(coefs)[::-1]\n",
        "\n",
        "plt.figure()\n",
        "plt.title(\"Tunnuste olulisus (RF)\")\n",
        "plt.bar(range(8), coefs[indices[:8]],\n",
        "       color=\"r\", align=\"center\")\n",
        "plt.xticks(range(8), gdm.columns[indices[:8]], rotation=45, ha='right')\n",
        "plt.subplots_adjust(bottom=0.3)\n",
        "\n",
        "plt.ion(); \n",
        "plt.savefig('tunnused.png')\n",
        "files.download('tunnused.png')\n",
        "plt.show()"
      ],
      "execution_count": 17,
      "outputs": [
        {
          "output_type": "display_data",
          "data": {
            "application/javascript": [
              "\n",
              "    async function download(id, filename, size) {\n",
              "      if (!google.colab.kernel.accessAllowed) {\n",
              "        return;\n",
              "      }\n",
              "      const div = document.createElement('div');\n",
              "      const label = document.createElement('label');\n",
              "      label.textContent = `Downloading \"${filename}\": `;\n",
              "      div.appendChild(label);\n",
              "      const progress = document.createElement('progress');\n",
              "      progress.max = size;\n",
              "      div.appendChild(progress);\n",
              "      document.body.appendChild(div);\n",
              "\n",
              "      const buffers = [];\n",
              "      let downloaded = 0;\n",
              "\n",
              "      const channel = await google.colab.kernel.comms.open(id);\n",
              "      // Send a message to notify the kernel that we're ready.\n",
              "      channel.send({})\n",
              "\n",
              "      for await (const message of channel.messages) {\n",
              "        // Send a message to notify the kernel that we're ready.\n",
              "        channel.send({})\n",
              "        if (message.buffers) {\n",
              "          for (const buffer of message.buffers) {\n",
              "            buffers.push(buffer);\n",
              "            downloaded += buffer.byteLength;\n",
              "            progress.value = downloaded;\n",
              "          }\n",
              "        }\n",
              "      }\n",
              "      const blob = new Blob(buffers, {type: 'application/binary'});\n",
              "      const a = document.createElement('a');\n",
              "      a.href = window.URL.createObjectURL(blob);\n",
              "      a.download = filename;\n",
              "      div.appendChild(a);\n",
              "      a.click();\n",
              "      div.remove();\n",
              "    }\n",
              "  "
            ],
            "text/plain": [
              "<IPython.core.display.Javascript object>"
            ]
          },
          "metadata": {
            "tags": []
          }
        },
        {
          "output_type": "display_data",
          "data": {
            "application/javascript": [
              "download(\"download_bf8dc3d0-ba81-44b3-a23d-f809e7c816b3\", \"tunnused.png\", 17686)"
            ],
            "text/plain": [
              "<IPython.core.display.Javascript object>"
            ]
          },
          "metadata": {
            "tags": []
          }
        },
        {
          "output_type": "display_data",
          "data": {
            "image/png": "[encoded data removed]",
            "text/plain": [
              "<Figure size 432x288 with 1 Axes>"
            ]
          },
          "metadata": {
            "tags": [],
            "needs_background": "light"
          }
        },
        {
          "output_type": "display_data",
          "data": {
            "image/png": "[encoded data removed]",
            "text/plain": [
              "<Figure size 432x288 with 1 Axes>"
            ]
          },
          "metadata": {
            "tags": [],
            "needs_background": "light"
          }
        }
      ]
    },
    {
      "cell_type": "markdown",
      "metadata": {
        "id": "eMmo43H6DkZq",
        "colab_type": "text"
      },
      "source": [
        "Kriteeriumide arvutus"
      ]
    },
    {
      "cell_type": "code",
      "metadata": {
        "id": "N8ehVztkiIrL",
        "colab_type": "code",
        "colab": {
          "base_uri": "https://localhost:8080/",
          "height": 1000
        },
        "outputId": "4416cc45-2183-475b-a354-44e7af0925ad"
      },
      "source": [
        "!pip install pycm\n",
        "from pycm import *\n",
        "\n",
        "model=LogisticRegression(C=11.288378916846883, class_weight=None, dual=False,\n",
        "                   fit_intercept=True, intercept_scaling=1, l1_ratio=None,\n",
        "                   max_iter=100, multi_class='auto', n_jobs=None, penalty='l1',\n",
        "                   random_state=None, solver='liblinear', tol=0.0001, verbose=0,\n",
        "                   warm_start=False)\n",
        "model.fit(X_train, y_train)\n",
        "cm = ConfusionMatrix(y_test, model.predict(X_test))\n",
        "print(cm)"
      ],
      "execution_count": 22,
      "outputs": [
        {
          "output_type": "stream",
          "text": [
            "Requirement already satisfied: pycm in /usr/local/lib/python3.6/dist-packages (2.8)\n",
            "Requirement already satisfied: numpy>=1.9.0 in /usr/local/lib/python3.6/dist-packages (from pycm) (1.18.5)\n",
            "Requirement already satisfied: art>=1.8 in /usr/local/lib/python3.6/dist-packages (from pycm) (4.7)\n",
            "Predict    0          1          \n",
            "Actual\n",
            "0          1030       29         \n",
            "\n",
            "1          81         386        \n",
            "\n",
            "\n",
            "\n",
            "\n",
            "\n",
            "Overall Statistics : \n",
            "\n",
            "95% CI                                                            (0.91494,0.94089)\n",
            "ACC Macro                                                         0.92792\n",
            "ARI                                                               0.72368\n",
            "AUNP                                                              0.89958\n",
            "AUNU                                                              0.89958\n",
            "Bangdiwala B                                                      0.88291\n",
            "Bennett S                                                         0.85583\n",
            "CBA                                                               0.87682\n",
            "CSI                                                               0.82819\n",
            "Chi-Squared                                                       1045.3977\n",
            "Chi-Squared DF                                                    1\n",
            "Conditional Entropy                                               0.32935\n",
            "Cramer V                                                          0.82768\n",
            "Cross Entropy                                                     0.89266\n",
            "F1 Macro                                                          0.9123\n",
            "F1 Micro                                                          0.92792\n",
            "FNR Macro                                                         0.10042\n",
            "FNR Micro                                                         0.07208\n",
            "FPR Macro                                                         0.10042\n",
            "FPR Micro                                                         0.07208\n",
            "Gwet AC1                                                          0.87763\n",
            "Hamming Loss                                                      0.07208\n",
            "Joint Entropy                                                     1.21789\n",
            "KL Divergence                                                     0.00413\n",
            "Kappa                                                             0.82484\n",
            "Kappa 95% CI                                                      (0.79331,0.85637)\n",
            "Kappa No Prevalence                                               0.85583\n",
            "Kappa Standard Error                                              0.01609\n",
            "Kappa Unbiased                                                    0.82459\n",
            "Krippendorff Alpha                                                0.82465\n",
            "Lambda A                                                          0.76445\n",
            "Lambda B                                                          0.73494\n",
            "Mutual Information                                                0.5149\n",
            "NIR                                                               0.69397\n",
            "Overall ACC                                                       0.92792\n",
            "Overall CEN                                                       0.32329\n",
            "Overall J                                                         (1.68173,0.84087)\n",
            "Overall MCC                                                       0.82768\n",
            "Overall MCEN                                                      0.25989\n",
            "Overall RACC                                                      0.58847\n",
            "Overall RACCU                                                     0.58905\n",
            "P-Value                                                           None\n",
            "PPV Macro                                                         0.92861\n",
            "PPV Micro                                                         0.92792\n",
            "Pearson C                                                         0.63761\n",
            "Phi-Squared                                                       0.68506\n",
            "RCI                                                               0.5795\n",
            "RR                                                                763.0\n",
            "Reference Entropy                                                 0.88854\n",
            "Response Entropy                                                  0.84425\n",
            "SOA1(Landis & Koch)                                               Almost Perfect\n",
            "SOA2(Fleiss)                                                      Excellent\n",
            "SOA3(Altman)                                                      Very Good\n",
            "SOA4(Cicchetti)                                                   Excellent\n",
            "SOA5(Cramer)                                                      Very Strong\n",
            "SOA6(Matthews)                                                    Strong\n",
            "Scott PI                                                          0.82459\n",
            "Standard Error                                                    0.00662\n",
            "TNR Macro                                                         0.89958\n",
            "TNR Micro                                                         0.92792\n",
            "TPR Macro                                                         0.89958\n",
            "TPR Micro                                                         0.92792\n",
            "Zero-one Loss                                                     110\n",
            "\n",
            "Class Statistics :\n",
            "\n",
            "Classes                                                           0             1             \n",
            "ACC(Accuracy)                                                     0.92792       0.92792       \n",
            "AGF(Adjusted F-score)                                             0.93485       0.88947       \n",
            "AGM(Adjusted geometric mean)                                      0.8802        0.92775       \n",
            "AM(Difference between automatic and manual classification)        52            -52           \n",
            "AUC(Area under the ROC curve)                                     0.89958       0.89958       \n",
            "AUCI(AUC value interpretation)                                    Very Good     Very Good     \n",
            "AUPR(Area under the PR curve)                                     0.94985       0.87834       \n",
            "BCD(Bray-Curtis dissimilarity)                                    0.01704       0.01704       \n",
            "BM(Informedness or bookmaker informedness)                        0.79917       0.79917       \n",
            "CEN(Confusion entropy)                                            0.26026       0.47835       \n",
            "DOR(Diagnostic odds ratio)                                        169.255       169.255       \n",
            "DP(Discriminant power)                                            1.22866       1.22866       \n",
            "DPI(Discriminant power interpretation)                            Limited       Limited       \n",
            "ERR(Error rate)                                                   0.07208       0.07208       \n",
            "F0.5(F0.5 score)                                                  0.93585       0.90738       \n",
            "F1(F1 score - harmonic mean of precision and sensitivity)         0.94931       0.87528       \n",
            "F2(F2 score)                                                      0.96316       0.84538       \n",
            "FDR(False discovery rate)                                         0.07291       0.06988       \n",
            "FN(False negative/miss/type 2 error)                              29            81            \n",
            "FNR(Miss rate or false negative rate)                             0.02738       0.17345       \n",
            "FOR(False omission rate)                                          0.06988       0.07291       \n",
            "FP(False positive/type 1 error/false alarm)                       81            29            \n",
            "FPR(Fall-out or false positive rate)                              0.17345       0.02738       \n",
            "G(G-measure geometric mean of precision and sensitivity)          0.94958       0.87681       \n",
            "GI(Gini index)                                                    0.79917       0.79917       \n",
            "GM(G-mean geometric mean of specificity and sensitivity)          0.89661       0.89661       \n",
            "IBA(Index of balanced accuracy)                                   0.92134       0.6865        \n",
            "ICSI(Individual classification success index)                     0.89971       0.75667       \n",
            "IS(Information score)                                             0.41784       1.60375       \n",
            "J(Jaccard index)                                                  0.90351       0.77823       \n",
            "LS(Lift score)                                                    1.33592       3.03932       \n",
            "MCC(Matthews correlation coefficient)                             0.82768       0.82768       \n",
            "MCCI(Matthews correlation coefficient interpretation)             Strong        Strong        \n",
            "MCEN(Modified confusion entropy)                                  0.40581       0.66644       \n",
            "MK(Markedness)                                                    0.85721       0.85721       \n",
            "N(Condition negative)                                             467           1059          \n",
            "NLR(Negative likelihood ratio)                                    0.03313       0.17833       \n",
            "NLRI(Negative likelihood ratio interpretation)                    Good          Fair          \n",
            "NPV(Negative predictive value)                                    0.93012       0.92709       \n",
            "OC(Overlap coefficient)                                           0.97262       0.93012       \n",
            "OOC(Otsuka-Ochiai coefficient)                                    0.94958       0.87681       \n",
            "OP(Optimized precision)                                           0.84673       0.84673       \n",
            "P(Condition positive or support)                                  1059          467           \n",
            "PLR(Positive likelihood ratio)                                    5.60755       30.18342      \n",
            "PLRI(Positive likelihood ratio interpretation)                    Fair          Good          \n",
            "POP(Population)                                                   1526          1526          \n",
            "PPV(Precision or positive predictive value)                       0.92709       0.93012       \n",
            "PRE(Prevalence)                                                   0.69397       0.30603       \n",
            "Q(Yule Q - coefficient of colligation)                            0.98825       0.98825       \n",
            "QI(Yule Q interpretation)                                         Strong        Strong        \n",
            "RACC(Random accuracy)                                             0.50524       0.08323       \n",
            "RACCU(Random accuracy unbiased)                                   0.50553       0.08352       \n",
            "TN(True negative/correct rejection)                               386           1030          \n",
            "TNR(Specificity or true negative rate)                            0.82655       0.97262       \n",
            "TON(Test outcome negative)                                        415           1111          \n",
            "TOP(Test outcome positive)                                        1111          415           \n",
            "TP(True positive/hit)                                             1030          386           \n",
            "TPR(Sensitivity, recall, hit rate, or true positive rate)         0.97262       0.82655       \n",
            "Y(Youden index)                                                   0.79917       0.79917       \n",
            "dInd(Distance index)                                              0.1756        0.1756        \n",
            "sInd(Similarity index)                                            0.87583       0.87583       \n",
            "\n"
          ],
          "name": "stdout"
        },
        {
          "output_type": "stream",
          "text": [
            "/usr/local/lib/python3.6/dist-packages/sklearn/svm/_base.py:947: ConvergenceWarning: Liblinear failed to converge, increase the number of iterations.\n",
            "  \"the number of iterations.\", ConvergenceWarning)\n"
          ],
          "name": "stderr"
        }
      ]
    },
    {
      "cell_type": "code",
      "metadata": {
        "id": "RiYnMWo4jc_I",
        "colab_type": "code",
        "colab": {
          "base_uri": "https://localhost:8080/",
          "height": 1000
        },
        "outputId": "7e2318e0-b510-467c-adc2-94cb669d29e0"
      },
      "source": [
        "model = LinearDiscriminantAnalysis()\n",
        "\n",
        "model.fit(X_train, y_train)\n",
        "cm = ConfusionMatrix(y_test, model.predict(X_test))\n",
        "print(cm)"
      ],
      "execution_count": 17,
      "outputs": [
        {
          "output_type": "stream",
          "text": [
            "Predict   0         1         \n",
            "Actual\n",
            "0         977       82        \n",
            "\n",
            "1         149       318       \n",
            "\n",
            "\n",
            "\n",
            "\n",
            "\n",
            "Overall Statistics : \n",
            "\n",
            "95% CI                                                            (0.83064,0.86661)\n",
            "ACC Macro                                                         0.84862\n",
            "ARI                                                               0.4678\n",
            "AUNP                                                              0.80176\n",
            "AUNU                                                              0.80176\n",
            "Bangdiwala B                                                      0.76539\n",
            "Bennett S                                                         0.69725\n",
            "CBA                                                               0.77431\n",
            "CSI                                                               0.63309\n",
            "Chi-Squared                                                       610.29367\n",
            "Chi-Squared DF                                                    1\n",
            "Conditional Entropy                                               0.54923\n",
            "Cramer V                                                          0.6324\n",
            "Cross Entropy                                                     0.89549\n",
            "F1 Macro                                                          0.81392\n",
            "F1 Micro                                                          0.84862\n",
            "FNR Macro                                                         0.19824\n",
            "FNR Micro                                                         0.15138\n",
            "FPR Macro                                                         0.19824\n",
            "FPR Micro                                                         0.15138\n",
            "Gwet AC1                                                          0.74483\n",
            "Hamming Loss                                                      0.15138\n",
            "Joint Entropy                                                     1.43776\n",
            "KL Divergence                                                     0.00695\n",
            "Kappa                                                             0.62872\n",
            "Kappa 95% CI                                                      (0.58462,0.67283)\n",
            "Kappa No Prevalence                                               0.69725\n",
            "Kappa Standard Error                                              0.0225\n",
            "Kappa Unbiased                                                    0.62784\n",
            "Krippendorff Alpha                                                0.62797\n",
            "Lambda A                                                          0.50535\n",
            "Lambda B                                                          0.4225\n",
            "Mutual Information                                                0.28071\n",
            "NIR                                                               0.69397\n",
            "Overall ACC                                                       0.84862\n",
            "Overall CEN                                                       0.53184\n",
            "Overall J                                                         (1.38801,0.694)\n",
            "Overall MCC                                                       0.6324\n",
            "Overall MCEN                                                      0.41723\n",
            "Overall RACC                                                      0.59228\n",
            "Overall RACCU                                                     0.59325\n",
            "P-Value                                                           None\n",
            "PPV Macro                                                         0.83134\n",
            "PPV Micro                                                         0.84862\n",
            "Pearson C                                                         0.53449\n",
            "Phi-Squared                                                       0.39993\n",
            "RCI                                                               0.31592\n",
            "RR                                                                763.0\n",
            "Reference Entropy                                                 0.88854\n",
            "Response Entropy                                                  0.82993\n",
            "SOA1(Landis & Koch)                                               Substantial\n",
            "SOA2(Fleiss)                                                      Intermediate to Good\n",
            "SOA3(Altman)                                                      Good\n",
            "SOA4(Cicchetti)                                                   Good\n",
            "SOA5(Cramer)                                                      Strong\n",
            "SOA6(Matthews)                                                    Moderate\n",
            "Scott PI                                                          0.62784\n",
            "Standard Error                                                    0.00918\n",
            "TNR Macro                                                         0.80176\n",
            "TNR Micro                                                         0.84862\n",
            "TPR Macro                                                         0.80176\n",
            "TPR Micro                                                         0.84862\n",
            "Zero-one Loss                                                     231\n",
            "\n",
            "Class Statistics :\n",
            "\n",
            "Classes                                                           0             1             \n",
            "ACC(Accuracy)                                                     0.84862       0.84862       \n",
            "AGF(Adjusted F-score)                                             0.83714       0.78461       \n",
            "AGM(Adjusted geometric mean)                                      0.76644       0.84584       \n",
            "AM(Difference between automatic and manual classification)        67            -67           \n",
            "AUC(Area under the ROC curve)                                     0.80176       0.80176       \n",
            "AUCI(AUC value interpretation)                                    Very Good     Very Good     \n",
            "AUPR(Area under the PR curve)                                     0.89512       0.73797       \n",
            "BCD(Bray-Curtis dissimilarity)                                    0.02195       0.02195       \n",
            "BM(Informedness or bookmaker informedness)                        0.60351       0.60351       \n",
            "CEN(Confusion entropy)                                            0.44192       0.75843       \n",
            "DOR(Diagnostic odds ratio)                                        25.42855      25.42855      \n",
            "DP(Discriminant power)                                            0.77479       0.77479       \n",
            "DPI(Discriminant power interpretation)                            Poor          Poor          \n",
            "ERR(Error rate)                                                   0.15138       0.15138       \n",
            "F0.5(F0.5 score)                                                  0.87812       0.76923       \n",
            "F1(F1 score - harmonic mean of precision and sensitivity)         0.89428       0.73356       \n",
            "F2(F2 score)                                                      0.91104       0.70106       \n",
            "FDR(False discovery rate)                                         0.13233       0.205         \n",
            "FN(False negative/miss/type 2 error)                              82            149           \n",
            "FNR(Miss rate or false negative rate)                             0.07743       0.31906       \n",
            "FOR(False omission rate)                                          0.205         0.13233       \n",
            "FP(False positive/type 1 error/false alarm)                       149           82            \n",
            "FPR(Fall-out or false positive rate)                              0.31906       0.07743       \n",
            "G(G-measure geometric mean of precision and sensitivity)          0.8947        0.73576       \n",
            "GI(Gini index)                                                    0.60351       0.60351       \n",
            "GM(G-mean geometric mean of specificity and sensitivity)          0.7926        0.7926        \n",
            "IBA(Index of balanced accuracy)                                   0.78001       0.47642       \n",
            "ICSI(Individual classification success index)                     0.79024       0.47594       \n",
            "IS(Information score)                                             0.32228       1.37729       \n",
            "J(Jaccard index)                                                  0.80877       0.57923       \n",
            "LS(Lift score)                                                    1.2503        2.59779       \n",
            "MCC(Matthews correlation coefficient)                             0.6324        0.6324        \n",
            "MCCI(Matthews correlation coefficient interpretation)             Moderate      Moderate      \n",
            "MCEN(Modified confusion entropy)                                  0.63584       0.92036       \n",
            "MK(Markedness)                                                    0.66267       0.66267       \n",
            "N(Condition negative)                                             467           1059          \n",
            "NLR(Negative likelihood ratio)                                    0.11371       0.34584       \n",
            "NLRI(Negative likelihood ratio interpretation)                    Fair          Poor          \n",
            "NPV(Negative predictive value)                                    0.795         0.86767       \n",
            "OC(Overlap coefficient)                                           0.92257       0.795         \n",
            "OOC(Otsuka-Ochiai coefficient)                                    0.8947        0.73576       \n",
            "OP(Optimized precision)                                           0.69794       0.69794       \n",
            "P(Condition positive or support)                                  1059          467           \n",
            "PLR(Positive likelihood ratio)                                    2.89154       8.79412       \n",
            "PLRI(Positive likelihood ratio interpretation)                    Poor          Fair          \n",
            "POP(Population)                                                   1526          1526          \n",
            "PPV(Precision or positive predictive value)                       0.86767       0.795         \n",
            "PRE(Prevalence)                                                   0.69397       0.30603       \n",
            "Q(Yule Q - coefficient of colligation)                            0.92432       0.92432       \n",
            "QI(Yule Q interpretation)                                         Strong        Strong        \n",
            "RACC(Random accuracy)                                             0.51207       0.08022       \n",
            "RACCU(Random accuracy unbiased)                                   0.51255       0.0807        \n",
            "TN(True negative/correct rejection)                               318           977           \n",
            "TNR(Specificity or true negative rate)                            0.68094       0.92257       \n",
            "TON(Test outcome negative)                                        400           1126          \n",
            "TOP(Test outcome positive)                                        1126          400           \n",
            "TP(True positive/hit)                                             977           318           \n",
            "TPR(Sensitivity, recall, hit rate, or true positive rate)         0.92257       0.68094       \n",
            "Y(Youden index)                                                   0.60351       0.60351       \n",
            "dInd(Distance index)                                              0.32832       0.32832       \n",
            "sInd(Similarity index)                                            0.76784       0.76784       \n",
            "\n"
          ],
          "name": "stdout"
        }
      ]
    },
    {
      "cell_type": "markdown",
      "metadata": {
        "id": "0QfUxi5n3Ihx",
        "colab_type": "text"
      },
      "source": [
        "Rekursiivne tunnuste ärajätmine\n",
        "https://scikit-learn.org/stable/auto_examples/feature_selection/plot_rfe_with_cross_validation.html\n"
      ]
    },
    {
      "cell_type": "code",
      "metadata": {
        "id": "8NA4lLoX3XwN",
        "colab_type": "code",
        "colab": {
          "base_uri": "https://localhost:8080/",
          "height": 313
        },
        "outputId": "d78e8ace-25d2-4795-b307-0e37e72249fd"
      },
      "source": [
        "\n",
        "from sklearn.model_selection import StratifiedKFold\n",
        "from sklearn.feature_selection import RFECV\n",
        "\n",
        "\n",
        "rf = RandomForestClassifier(bootstrap=True, ccp_alpha=0.0, class_weight=None,\n",
        "                       criterion='gini', max_depth=25, max_features='auto',\n",
        "                       max_leaf_nodes=None, max_samples=None,\n",
        "                       min_impurity_decrease=0.0, min_impurity_split=None,\n",
        "                       min_samples_leaf=1, min_samples_split=2,\n",
        "                       min_weight_fraction_leaf=0.0, n_estimators=500,\n",
        "                       n_jobs=None, oob_score=False, random_state=1, verbose=0,\n",
        "                       warm_start=False)\n",
        "\n",
        "rfecv = RFECV(estimator=rf, step=1, cv=StratifiedKFold(10),\n",
        "              scoring='accuracy')\n",
        "rfecv.fit(X_scaled, y_over)\n",
        "\n",
        "print(\"Optimaalne tunnuste arv: %d\" % rfecv.n_features_)\n",
        "print(rfecv.ranking_)\n",
        "\n",
        "# Plot number of features VS. cross-validation scores\n",
        "plt.figure()\n",
        "plt.xlabel(\"Valitud tunnuste arv\")\n",
        "plt.ylabel(\"Ristvalideerimise täpsus\")\n",
        "plt.plot(range(1, len(rfecv.grid_scores_) + 1), rfecv.grid_scores_)\n",
        "plt.show()"
      ],
      "execution_count": 18,
      "outputs": [
        {
          "output_type": "stream",
          "text": [
            "Optimaalne tunnuste arv: 8\n",
            "[1 1 1 1 1 1 1 1]\n"
          ],
          "name": "stdout"
        },
        {
          "output_type": "display_data",
          "data": {
            "image/png": "[encoded data removed]",
            "text/plain": [
              "<Figure size 432x288 with 1 Axes>"
            ]
          },
          "metadata": {
            "tags": [],
            "needs_background": "light"
          }
        }
      ]
    },
    {
      "cell_type": "code",
      "metadata": {
        "id": "BWqBP4e0eOLO",
        "colab_type": "code",
        "colab": {
          "base_uri": "https://localhost:8080/",
          "height": 34
        },
        "outputId": "f3aca6eb-2a47-44ee-a6a7-91bcb8881762"
      },
      "source": [
        "from sklearn.preprocessing import PolynomialFeatures\n",
        "poly = PolynomialFeatures(2)\n",
        "poly = PolynomialFeatures()\n",
        "X_transformed=poly.fit_transform(X_scaled)\n",
        "print(X_transformed.shape)"
      ],
      "execution_count": 19,
      "outputs": [
        {
          "output_type": "stream",
          "text": [
            "(5085, 45)\n"
          ],
          "name": "stdout"
        }
      ]
    },
    {
      "cell_type": "code",
      "metadata": {
        "id": "hIZ-FTCj6X2X",
        "colab_type": "code",
        "colab": {
          "base_uri": "https://localhost:8080/",
          "height": 1000
        },
        "outputId": "fb51ca56-bb2f-4e24-9d67-7161f97d38c6"
      },
      "source": [
        "from sklearn.model_selection import cross_val_score\n",
        "from sklearn.model_selection import KFold\n",
        "crossvalidation = KFold(n_splits=10, shuffle=True, random_state=1)\n",
        "gdmA =gdm.drop('GDM', 1)\n",
        "polyX = pd.DataFrame(X_scaled, columns=gdmA.columns)\n",
        "print(df.describe())\n",
        "lr = LogisticRegression(C=0.0018329807108324356, class_weight=None, dual=False,\n",
        "                   fit_intercept=True, intercept_scaling=1, l1_ratio=None,\n",
        "                   max_iter=100, multi_class='auto', n_jobs=None, penalty='l2',\n",
        "                   random_state=None, solver='liblinear', tol=0.0001, verbose=0,\n",
        "                   warm_start=False)\n",
        "\n",
        "\n",
        "baseline = np.mean(cross_val_score(lr, df, y_over, scoring ='roc_auc', cv=crossvalidation, n_jobs=1))\n",
        "improvements=[baseline]\n",
        "\n",
        "for feature_A in gdmA.columns:\n",
        "    polyX[feature_A+'^2'] = polyX[feature_A]**2\n",
        "    improvements.append(np.mean(cross_val_score(lr, polyX, y_over, scoring='roc_auc', cv=crossvalidation, n_jobs=1)))\n",
        "    for feature_B in gdmA.columns:\n",
        "        if feature_A > feature_B:\n",
        "            polyX[feature_A+'*'+feature_B] = polyX[feature_A] * polyX[feature_B]\n",
        "            improvements.append(np.mean(cross_val_score(lr, polyX, y_over, scoring='roc_auc', cv=crossvalidation, n_jobs=1)))\n",
        "            \n",
        "print (polyX.info())\n",
        "print ('ROC_AUC %.3f' % abs(np.mean(cross_val_score(lr, polyX, y_over, scoring='roc_auc', cv=crossvalidation, n_jobs=1))))"
      ],
      "execution_count": null,
      "outputs": [
        {
          "output_type": "stream",
          "text": [
            "           DM_sugul         Vanus  ...          PCOS  interaction\n",
            "count  5.045000e+03  5.045000e+03  ...  5.045000e+03  5045.000000\n",
            "mean  -8.921176e-16  5.373446e-15  ... -7.194190e-15     0.068542\n",
            "std    1.000099e+00  1.000099e+00  ...  1.000099e+00     1.170256\n",
            "min   -3.770377e-01 -2.947749e+00  ... -1.503083e-01    -9.368407\n",
            "25%   -3.770377e-01 -6.565949e-01  ... -1.503083e-01    -0.068222\n",
            "50%   -3.770377e-01 -8.380642e-02  ... -1.503083e-01     0.041678\n",
            "75%   -3.770377e-01  6.799115e-01  ... -1.503083e-01     0.108818\n",
            "max    2.959869e+00  3.058754e+00  ...  7.911377e+00    20.928318\n",
            "\n",
            "[8 rows x 9 columns]\n",
            "<class 'pandas.core.frame.DataFrame'>\n",
            "RangeIndex: 5045 entries, 0 to 5044\n",
            "Data columns (total 44 columns):\n",
            " #   Column                          Non-Null Count  Dtype  \n",
            "---  ------                          --------------  -----  \n",
            " 0   DM_sugul                        5045 non-null   float64\n",
            " 1   Vanus                           5045 non-null   float64\n",
            " 2   sugu                            5045 non-null   float64\n",
            " 3   KMI                             5045 non-null   float64\n",
            " 4   suur_laps_varem                 5045 non-null   float64\n",
            " 5   paastusuhkur                    5045 non-null   float64\n",
            " 6   polyhydramnion                  5045 non-null   float64\n",
            " 7   PCOS                            5045 non-null   float64\n",
            " 8   DM_sugul^2                      5045 non-null   float64\n",
            " 9   Vanus^2                         5045 non-null   float64\n",
            " 10  Vanus*DM_sugul                  5045 non-null   float64\n",
            " 11  Vanus*KMI                       5045 non-null   float64\n",
            " 12  Vanus*PCOS                      5045 non-null   float64\n",
            " 13  sugu^2                          5045 non-null   float64\n",
            " 14  sugu*DM_sugul                   5045 non-null   float64\n",
            " 15  sugu*Vanus                      5045 non-null   float64\n",
            " 16  sugu*KMI                        5045 non-null   float64\n",
            " 17  sugu*paastusuhkur               5045 non-null   float64\n",
            " 18  sugu*polyhydramnion             5045 non-null   float64\n",
            " 19  sugu*PCOS                       5045 non-null   float64\n",
            " 20  KMI^2                           5045 non-null   float64\n",
            " 21  KMI*DM_sugul                    5045 non-null   float64\n",
            " 22  suur_laps_varem^2               5045 non-null   float64\n",
            " 23  suur_laps_varem*DM_sugul        5045 non-null   float64\n",
            " 24  suur_laps_varem*Vanus           5045 non-null   float64\n",
            " 25  suur_laps_varem*sugu            5045 non-null   float64\n",
            " 26  suur_laps_varem*KMI             5045 non-null   float64\n",
            " 27  suur_laps_varem*paastusuhkur    5045 non-null   float64\n",
            " 28  suur_laps_varem*polyhydramnion  5045 non-null   float64\n",
            " 29  suur_laps_varem*PCOS            5045 non-null   float64\n",
            " 30  paastusuhkur^2                  5045 non-null   float64\n",
            " 31  paastusuhkur*DM_sugul           5045 non-null   float64\n",
            " 32  paastusuhkur*Vanus              5045 non-null   float64\n",
            " 33  paastusuhkur*KMI                5045 non-null   float64\n",
            " 34  paastusuhkur*PCOS               5045 non-null   float64\n",
            " 35  polyhydramnion^2                5045 non-null   float64\n",
            " 36  polyhydramnion*DM_sugul         5045 non-null   float64\n",
            " 37  polyhydramnion*Vanus            5045 non-null   float64\n",
            " 38  polyhydramnion*KMI              5045 non-null   float64\n",
            " 39  polyhydramnion*paastusuhkur     5045 non-null   float64\n",
            " 40  polyhydramnion*PCOS             5045 non-null   float64\n",
            " 41  PCOS^2                          5045 non-null   float64\n",
            " 42  PCOS*DM_sugul                   5045 non-null   float64\n",
            " 43  PCOS*KMI                        5045 non-null   float64\n",
            "dtypes: float64(44)\n",
            "memory usage: 1.7 MB\n",
            "None\n",
            "ROC_AUC 0.922\n"
          ],
          "name": "stdout"
        }
      ]
    }
  ]
}